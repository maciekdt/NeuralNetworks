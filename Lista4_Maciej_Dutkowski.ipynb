{
 "cells": [
  {
   "cell_type": "markdown",
   "metadata": {},
   "source": [
    "## Ćwiczenie 4 - Odtworzenie zaimplementowanej architektury sieci \n",
    "Maciej Dutkowski 260396"
   ]
  },
  {
   "cell_type": "code",
   "execution_count": 2,
   "metadata": {},
   "outputs": [],
   "source": [
    "from ucimlrepo import fetch_ucirepo\n",
    "import pandas as pd\n",
    "from sklearn.preprocessing import MinMaxScaler\n",
    "from sklearn.model_selection import train_test_split"
   ]
  },
  {
   "cell_type": "code",
   "execution_count": 12,
   "metadata": {},
   "outputs": [],
   "source": [
    "#warnings.filterwarnings('ignore')"
   ]
  },
  {
   "cell_type": "code",
   "execution_count": 3,
   "metadata": {},
   "outputs": [],
   "source": [
    "heart_disease = fetch_ucirepo(id=45) \n",
    "  \n",
    "x = heart_disease.data.features \n",
    "y = heart_disease.data.targets"
   ]
  },
  {
   "cell_type": "code",
   "execution_count": 4,
   "metadata": {},
   "outputs": [],
   "source": [
    "categorical_features_labels = ['sex', 'cp', 'fbs', 'restecg', 'exang', 'slope', 'thal', 'ca']\n",
    "numerical_features_labels = ['age', 'trestbps', 'chol', 'thalach', 'oldpeak']"
   ]
  },
  {
   "cell_type": "markdown",
   "metadata": {},
   "source": [
    "Usuwanie rekordów z brakującymi wartościami"
   ]
  },
  {
   "cell_type": "code",
   "execution_count": 5,
   "metadata": {},
   "outputs": [],
   "source": [
    "indices_to_keep = x.dropna().index\n",
    "x = x.loc[indices_to_keep].reset_index()\n",
    "y = y.loc[indices_to_keep].reset_index()"
   ]
  },
  {
   "cell_type": "markdown",
   "metadata": {},
   "source": [
    "Zamiana etykiet na zbiór {0,1}"
   ]
  },
  {
   "cell_type": "code",
   "execution_count": 6,
   "metadata": {},
   "outputs": [],
   "source": [
    "y = y['num'].apply(lambda x: 0 if x == 0 else 1)"
   ]
  },
  {
   "cell_type": "markdown",
   "metadata": {},
   "source": [
    "Przekształcenie cech kategorycznych na wartości binarne one-hot-encoding i normalizacja cech liczbowych"
   ]
  },
  {
   "cell_type": "code",
   "execution_count": 7,
   "metadata": {},
   "outputs": [],
   "source": [
    "#One hot encoding\n",
    "x = pd.get_dummies(x, columns = categorical_features_labels)\n",
    "x = x.reset_index(drop=True)\n",
    "boolean_columns = x.select_dtypes(include=bool).columns\n",
    "x[boolean_columns] = x[boolean_columns].astype(int)\n",
    "\n",
    "# Normalizacja\n",
    "scaler = MinMaxScaler()\n",
    "x[numerical_features_labels] = scaler.fit_transform(x[numerical_features_labels])\n",
    "\n",
    "x = x.drop(\"index\", axis=1)"
   ]
  },
  {
   "cell_type": "code",
   "execution_count": 8,
   "metadata": {},
   "outputs": [
    {
     "data": {
      "text/html": [
       "<div>\n",
       "<style scoped>\n",
       "    .dataframe tbody tr th:only-of-type {\n",
       "        vertical-align: middle;\n",
       "    }\n",
       "\n",
       "    .dataframe tbody tr th {\n",
       "        vertical-align: top;\n",
       "    }\n",
       "\n",
       "    .dataframe thead th {\n",
       "        text-align: right;\n",
       "    }\n",
       "</style>\n",
       "<table border=\"1\" class=\"dataframe\">\n",
       "  <thead>\n",
       "    <tr style=\"text-align: right;\">\n",
       "      <th></th>\n",
       "      <th>age</th>\n",
       "      <th>trestbps</th>\n",
       "      <th>chol</th>\n",
       "      <th>thalach</th>\n",
       "      <th>oldpeak</th>\n",
       "      <th>sex_0</th>\n",
       "      <th>sex_1</th>\n",
       "      <th>cp_1</th>\n",
       "      <th>cp_2</th>\n",
       "      <th>cp_3</th>\n",
       "      <th>...</th>\n",
       "      <th>slope_1</th>\n",
       "      <th>slope_2</th>\n",
       "      <th>slope_3</th>\n",
       "      <th>thal_3.0</th>\n",
       "      <th>thal_6.0</th>\n",
       "      <th>thal_7.0</th>\n",
       "      <th>ca_0.0</th>\n",
       "      <th>ca_1.0</th>\n",
       "      <th>ca_2.0</th>\n",
       "      <th>ca_3.0</th>\n",
       "    </tr>\n",
       "  </thead>\n",
       "  <tbody>\n",
       "    <tr>\n",
       "      <th>0</th>\n",
       "      <td>0.708333</td>\n",
       "      <td>0.481132</td>\n",
       "      <td>0.244292</td>\n",
       "      <td>0.603053</td>\n",
       "      <td>0.370968</td>\n",
       "      <td>0</td>\n",
       "      <td>1</td>\n",
       "      <td>1</td>\n",
       "      <td>0</td>\n",
       "      <td>0</td>\n",
       "      <td>...</td>\n",
       "      <td>0</td>\n",
       "      <td>0</td>\n",
       "      <td>1</td>\n",
       "      <td>0</td>\n",
       "      <td>1</td>\n",
       "      <td>0</td>\n",
       "      <td>1</td>\n",
       "      <td>0</td>\n",
       "      <td>0</td>\n",
       "      <td>0</td>\n",
       "    </tr>\n",
       "    <tr>\n",
       "      <th>1</th>\n",
       "      <td>0.791667</td>\n",
       "      <td>0.622642</td>\n",
       "      <td>0.365297</td>\n",
       "      <td>0.282443</td>\n",
       "      <td>0.241935</td>\n",
       "      <td>0</td>\n",
       "      <td>1</td>\n",
       "      <td>0</td>\n",
       "      <td>0</td>\n",
       "      <td>0</td>\n",
       "      <td>...</td>\n",
       "      <td>0</td>\n",
       "      <td>1</td>\n",
       "      <td>0</td>\n",
       "      <td>1</td>\n",
       "      <td>0</td>\n",
       "      <td>0</td>\n",
       "      <td>0</td>\n",
       "      <td>0</td>\n",
       "      <td>0</td>\n",
       "      <td>1</td>\n",
       "    </tr>\n",
       "    <tr>\n",
       "      <th>2</th>\n",
       "      <td>0.791667</td>\n",
       "      <td>0.245283</td>\n",
       "      <td>0.235160</td>\n",
       "      <td>0.442748</td>\n",
       "      <td>0.419355</td>\n",
       "      <td>0</td>\n",
       "      <td>1</td>\n",
       "      <td>0</td>\n",
       "      <td>0</td>\n",
       "      <td>0</td>\n",
       "      <td>...</td>\n",
       "      <td>0</td>\n",
       "      <td>1</td>\n",
       "      <td>0</td>\n",
       "      <td>0</td>\n",
       "      <td>0</td>\n",
       "      <td>1</td>\n",
       "      <td>0</td>\n",
       "      <td>0</td>\n",
       "      <td>1</td>\n",
       "      <td>0</td>\n",
       "    </tr>\n",
       "    <tr>\n",
       "      <th>3</th>\n",
       "      <td>0.166667</td>\n",
       "      <td>0.339623</td>\n",
       "      <td>0.283105</td>\n",
       "      <td>0.885496</td>\n",
       "      <td>0.564516</td>\n",
       "      <td>0</td>\n",
       "      <td>1</td>\n",
       "      <td>0</td>\n",
       "      <td>0</td>\n",
       "      <td>1</td>\n",
       "      <td>...</td>\n",
       "      <td>0</td>\n",
       "      <td>0</td>\n",
       "      <td>1</td>\n",
       "      <td>1</td>\n",
       "      <td>0</td>\n",
       "      <td>0</td>\n",
       "      <td>1</td>\n",
       "      <td>0</td>\n",
       "      <td>0</td>\n",
       "      <td>0</td>\n",
       "    </tr>\n",
       "    <tr>\n",
       "      <th>4</th>\n",
       "      <td>0.250000</td>\n",
       "      <td>0.339623</td>\n",
       "      <td>0.178082</td>\n",
       "      <td>0.770992</td>\n",
       "      <td>0.225806</td>\n",
       "      <td>1</td>\n",
       "      <td>0</td>\n",
       "      <td>0</td>\n",
       "      <td>1</td>\n",
       "      <td>0</td>\n",
       "      <td>...</td>\n",
       "      <td>1</td>\n",
       "      <td>0</td>\n",
       "      <td>0</td>\n",
       "      <td>1</td>\n",
       "      <td>0</td>\n",
       "      <td>0</td>\n",
       "      <td>1</td>\n",
       "      <td>0</td>\n",
       "      <td>0</td>\n",
       "      <td>0</td>\n",
       "    </tr>\n",
       "    <tr>\n",
       "      <th>...</th>\n",
       "      <td>...</td>\n",
       "      <td>...</td>\n",
       "      <td>...</td>\n",
       "      <td>...</td>\n",
       "      <td>...</td>\n",
       "      <td>...</td>\n",
       "      <td>...</td>\n",
       "      <td>...</td>\n",
       "      <td>...</td>\n",
       "      <td>...</td>\n",
       "      <td>...</td>\n",
       "      <td>...</td>\n",
       "      <td>...</td>\n",
       "      <td>...</td>\n",
       "      <td>...</td>\n",
       "      <td>...</td>\n",
       "      <td>...</td>\n",
       "      <td>...</td>\n",
       "      <td>...</td>\n",
       "      <td>...</td>\n",
       "      <td>...</td>\n",
       "    </tr>\n",
       "    <tr>\n",
       "      <th>292</th>\n",
       "      <td>0.583333</td>\n",
       "      <td>0.433962</td>\n",
       "      <td>0.262557</td>\n",
       "      <td>0.396947</td>\n",
       "      <td>0.032258</td>\n",
       "      <td>1</td>\n",
       "      <td>0</td>\n",
       "      <td>0</td>\n",
       "      <td>0</td>\n",
       "      <td>0</td>\n",
       "      <td>...</td>\n",
       "      <td>0</td>\n",
       "      <td>1</td>\n",
       "      <td>0</td>\n",
       "      <td>0</td>\n",
       "      <td>0</td>\n",
       "      <td>1</td>\n",
       "      <td>1</td>\n",
       "      <td>0</td>\n",
       "      <td>0</td>\n",
       "      <td>0</td>\n",
       "    </tr>\n",
       "    <tr>\n",
       "      <th>293</th>\n",
       "      <td>0.333333</td>\n",
       "      <td>0.150943</td>\n",
       "      <td>0.315068</td>\n",
       "      <td>0.465649</td>\n",
       "      <td>0.193548</td>\n",
       "      <td>0</td>\n",
       "      <td>1</td>\n",
       "      <td>1</td>\n",
       "      <td>0</td>\n",
       "      <td>0</td>\n",
       "      <td>...</td>\n",
       "      <td>0</td>\n",
       "      <td>1</td>\n",
       "      <td>0</td>\n",
       "      <td>0</td>\n",
       "      <td>0</td>\n",
       "      <td>1</td>\n",
       "      <td>1</td>\n",
       "      <td>0</td>\n",
       "      <td>0</td>\n",
       "      <td>0</td>\n",
       "    </tr>\n",
       "    <tr>\n",
       "      <th>294</th>\n",
       "      <td>0.812500</td>\n",
       "      <td>0.471698</td>\n",
       "      <td>0.152968</td>\n",
       "      <td>0.534351</td>\n",
       "      <td>0.548387</td>\n",
       "      <td>0</td>\n",
       "      <td>1</td>\n",
       "      <td>0</td>\n",
       "      <td>0</td>\n",
       "      <td>0</td>\n",
       "      <td>...</td>\n",
       "      <td>0</td>\n",
       "      <td>1</td>\n",
       "      <td>0</td>\n",
       "      <td>0</td>\n",
       "      <td>0</td>\n",
       "      <td>1</td>\n",
       "      <td>0</td>\n",
       "      <td>0</td>\n",
       "      <td>1</td>\n",
       "      <td>0</td>\n",
       "    </tr>\n",
       "    <tr>\n",
       "      <th>295</th>\n",
       "      <td>0.583333</td>\n",
       "      <td>0.339623</td>\n",
       "      <td>0.011416</td>\n",
       "      <td>0.335878</td>\n",
       "      <td>0.193548</td>\n",
       "      <td>0</td>\n",
       "      <td>1</td>\n",
       "      <td>0</td>\n",
       "      <td>0</td>\n",
       "      <td>0</td>\n",
       "      <td>...</td>\n",
       "      <td>0</td>\n",
       "      <td>1</td>\n",
       "      <td>0</td>\n",
       "      <td>0</td>\n",
       "      <td>0</td>\n",
       "      <td>1</td>\n",
       "      <td>0</td>\n",
       "      <td>1</td>\n",
       "      <td>0</td>\n",
       "      <td>0</td>\n",
       "    </tr>\n",
       "    <tr>\n",
       "      <th>296</th>\n",
       "      <td>0.583333</td>\n",
       "      <td>0.339623</td>\n",
       "      <td>0.251142</td>\n",
       "      <td>0.786260</td>\n",
       "      <td>0.000000</td>\n",
       "      <td>1</td>\n",
       "      <td>0</td>\n",
       "      <td>0</td>\n",
       "      <td>1</td>\n",
       "      <td>0</td>\n",
       "      <td>...</td>\n",
       "      <td>0</td>\n",
       "      <td>1</td>\n",
       "      <td>0</td>\n",
       "      <td>1</td>\n",
       "      <td>0</td>\n",
       "      <td>0</td>\n",
       "      <td>0</td>\n",
       "      <td>1</td>\n",
       "      <td>0</td>\n",
       "      <td>0</td>\n",
       "    </tr>\n",
       "  </tbody>\n",
       "</table>\n",
       "<p>297 rows × 28 columns</p>\n",
       "</div>"
      ],
      "text/plain": [
       "          age  trestbps      chol   thalach   oldpeak  sex_0  sex_1  cp_1  \\\n",
       "0    0.708333  0.481132  0.244292  0.603053  0.370968      0      1     1   \n",
       "1    0.791667  0.622642  0.365297  0.282443  0.241935      0      1     0   \n",
       "2    0.791667  0.245283  0.235160  0.442748  0.419355      0      1     0   \n",
       "3    0.166667  0.339623  0.283105  0.885496  0.564516      0      1     0   \n",
       "4    0.250000  0.339623  0.178082  0.770992  0.225806      1      0     0   \n",
       "..        ...       ...       ...       ...       ...    ...    ...   ...   \n",
       "292  0.583333  0.433962  0.262557  0.396947  0.032258      1      0     0   \n",
       "293  0.333333  0.150943  0.315068  0.465649  0.193548      0      1     1   \n",
       "294  0.812500  0.471698  0.152968  0.534351  0.548387      0      1     0   \n",
       "295  0.583333  0.339623  0.011416  0.335878  0.193548      0      1     0   \n",
       "296  0.583333  0.339623  0.251142  0.786260  0.000000      1      0     0   \n",
       "\n",
       "     cp_2  cp_3  ...  slope_1  slope_2  slope_3  thal_3.0  thal_6.0  thal_7.0  \\\n",
       "0       0     0  ...        0        0        1         0         1         0   \n",
       "1       0     0  ...        0        1        0         1         0         0   \n",
       "2       0     0  ...        0        1        0         0         0         1   \n",
       "3       0     1  ...        0        0        1         1         0         0   \n",
       "4       1     0  ...        1        0        0         1         0         0   \n",
       "..    ...   ...  ...      ...      ...      ...       ...       ...       ...   \n",
       "292     0     0  ...        0        1        0         0         0         1   \n",
       "293     0     0  ...        0        1        0         0         0         1   \n",
       "294     0     0  ...        0        1        0         0         0         1   \n",
       "295     0     0  ...        0        1        0         0         0         1   \n",
       "296     1     0  ...        0        1        0         1         0         0   \n",
       "\n",
       "     ca_0.0  ca_1.0  ca_2.0  ca_3.0  \n",
       "0         1       0       0       0  \n",
       "1         0       0       0       1  \n",
       "2         0       0       1       0  \n",
       "3         1       0       0       0  \n",
       "4         1       0       0       0  \n",
       "..      ...     ...     ...     ...  \n",
       "292       1       0       0       0  \n",
       "293       1       0       0       0  \n",
       "294       0       0       1       0  \n",
       "295       0       1       0       0  \n",
       "296       0       1       0       0  \n",
       "\n",
       "[297 rows x 28 columns]"
      ]
     },
     "metadata": {},
     "output_type": "display_data"
    },
    {
     "data": {
      "text/plain": [
       "0      0\n",
       "1      1\n",
       "2      1\n",
       "3      0\n",
       "4      0\n",
       "      ..\n",
       "292    1\n",
       "293    1\n",
       "294    1\n",
       "295    1\n",
       "296    1\n",
       "Name: num, Length: 297, dtype: int64"
      ]
     },
     "metadata": {},
     "output_type": "display_data"
    }
   ],
   "source": [
    "display(x,y)"
   ]
  },
  {
   "cell_type": "markdown",
   "metadata": {},
   "source": [
    "Podział na zbiór testowy i treningowy"
   ]
  },
  {
   "cell_type": "code",
   "execution_count": 9,
   "metadata": {},
   "outputs": [],
   "source": [
    "x_train, x_test, y_train, y_test = train_test_split(x, y, test_size = 0.4, random_state = 42)"
   ]
  },
  {
   "cell_type": "markdown",
   "metadata": {},
   "source": [
    "### Konfiguracja sieci"
   ]
  },
  {
   "cell_type": "markdown",
   "metadata": {},
   "source": [
    "Jako framework do głębokiego uczenia wybrałem biblotekę tensorflow. Pozwala skonfigurować bardzo wiele paraemtrów sieci i może wykorzystywać procesoru GPU do przeprowadzania obliczeń."
   ]
  },
  {
   "cell_type": "code",
   "execution_count": 241,
   "metadata": {},
   "outputs": [],
   "source": [
    "import tensorflow as tf\n",
    "from tensorflow.keras.models import Sequential\n",
    "from tensorflow.keras.layers import Dense\n",
    "from tensorflow.keras.initializers import HeNormal, GlorotUniform\n",
    "from tensorflow.keras.optimizers import Adam, SGD, RMSprop"
   ]
  },
  {
   "cell_type": "markdown",
   "metadata": {},
   "source": [
    "Jako pierwsza została zdefiniowana funkcja tworząca model sieci. Wymiary sieci, funkcje aktywacji jak i strategie inicjalizacji wag dla poszczególnych warstw wybrałem takie same jak dla wcześniejszego ćwiczenia dla najlepszej sieci jaką udało mi się uzyskać. Kształt sieci to 3 warstwy i na każdej po 2 neurony (oprócz ostatniej). Na warstwach ukrytych jako funkcja aktywacji jest ReLU i He inicjalizacja. Natomiast na wartstwie wyjściowej jest sigmoid i Xavier/Glorot inicjalizacja. Wymiary sieci, funkcje aktywacji jak i strategie inicjalizacji konfiguruje obiektem Sequential biblioteki tensorflow."
   ]
  },
  {
   "cell_type": "code",
   "execution_count": 242,
   "metadata": {},
   "outputs": [],
   "source": [
    "seed = 42\n",
    "def create_model():    \n",
    "    return Sequential([\n",
    "        Dense(2, activation='relu', input_shape=(28,), kernel_initializer = HeNormal(seed=seed)),\n",
    "        Dense(2, activation='relu', kernel_initializer = HeNormal(seed=seed)),\n",
    "        Dense(1, activation='sigmoid', kernel_initializer = GlorotUniform(seed=seed))\n",
    "    ])"
   ]
  },
  {
   "cell_type": "markdown",
   "metadata": {},
   "source": [
    "Następnie tworze funkcję kompilującą model. Podejemy jej w parametrze wcześniej utworzony model oraz optymalizator. Ustawiamy w niej funkcję kosztu dla sieci (entropia krzyżowa z poprzedniego ćwiczenia) oraz metryki, które chcemy mierzyć (dokładność modelu)."
   ]
  },
  {
   "cell_type": "code",
   "execution_count": 243,
   "metadata": {},
   "outputs": [],
   "source": [
    "def compile_model(model, optimizer):    \n",
    "    model.compile(\n",
    "        optimizer = optimizer,\n",
    "        loss = 'binary_crossentropy',\n",
    "        metrics = ['accuracy']\n",
    "    )"
   ]
  },
  {
   "cell_type": "markdown",
   "metadata": {},
   "source": [
    "Zostaje również zdefiniowana funkcja trenująca, która dla ustalonej liczby epok (50) oraz danego rozmiaru batcha trenuje model."
   ]
  },
  {
   "cell_type": "code",
   "execution_count": 244,
   "metadata": {},
   "outputs": [],
   "source": [
    "def train_model(model, batch_size):    \n",
    "    model.fit(\n",
    "        x_train, y_train,\n",
    "        epochs = 50,\n",
    "        batch_size = batch_size,\n",
    "        verbose = 0\n",
    "    )"
   ]
  },
  {
   "cell_type": "markdown",
   "metadata": {},
   "source": [
    "Funkcja testująca dokładność modelu."
   ]
  },
  {
   "cell_type": "code",
   "execution_count": 245,
   "metadata": {},
   "outputs": [],
   "source": [
    "def test_model(model):    \n",
    "    _, test_accuracy = model.evaluate(x_test, y_test, verbose=0)\n",
    "    return test_accuracy\n"
   ]
  },
  {
   "cell_type": "markdown",
   "metadata": {},
   "source": [
    "Następnie cały proces uczenia i testowania zostaje zamknięty w jednej funkcji, tak by można było łątwo testować go dla różnych hiperparametrów."
   ]
  },
  {
   "cell_type": "code",
   "execution_count": 273,
   "metadata": {},
   "outputs": [],
   "source": [
    "def process_model(optimizer, batch_size=10):\n",
    "    model = create_model()\n",
    "    compile_model(model=model, optimizer=optimizer)\n",
    "    train_model(model=model, batch_size=batch_size)\n",
    "    return test_model(model)"
   ]
  },
  {
   "cell_type": "markdown",
   "metadata": {},
   "source": [
    "### Wyniki"
   ]
  },
  {
   "cell_type": "markdown",
   "metadata": {},
   "source": [
    "#### W zależności od optymalizatora"
   ]
  },
  {
   "cell_type": "code",
   "execution_count": 274,
   "metadata": {},
   "outputs": [
    {
     "name": "stdout",
     "output_type": "stream",
     "text": [
      "Accuracy of SGD:  0.756302535533905\n",
      "Accuracy of Adam:  0.8235294222831726\n",
      "Accuracy of RMSprop:  0.7899159789085388\n"
     ]
    }
   ],
   "source": [
    "accuracy_sgd = process_model(optimizer = SGD(learning_rate=0.01))\n",
    "accuracy_adam = process_model(optimizer = Adam(learning_rate=0.01))\n",
    "accuracy_rms = process_model(optimizer = RMSprop(learning_rate=0.01))\n",
    "\n",
    "print(\"Accuracy of SGD: \", accuracy_sgd)\n",
    "print(\"Accuracy of Adam: \", accuracy_adam)\n",
    "print(\"Accuracy of RMSprop: \", accuracy_rms)"
   ]
  },
  {
   "cell_type": "markdown",
   "metadata": {},
   "source": [
    "Jak widać najlepsze wyniki dla wspołczynnika uczenia wynoszącego 0.01, rozmiarze batcha 10 i liczbie epok 50 odniósł optymalizator typu Adam (~82%), następnie RMSprop(~79%) oraz najgorzej SDG (~75%). Wynikać to może między innymi z tego, ze zarówno Adam jak i RMSprop automatycznie dostosowywują szybkość uczenia dla poszczególnych wag, dzięki czemu mogą być bardziej efektywne niż SDG, który wykorzystuje stałą szybkość uczenia. Dodatkowo Adam wykorzystuje pęd przy aktualizacji wag (uwzględniający wcześniejsze aktualizacje), który zmniejsza jego szansę na utknięciu w minimum lokalnym, co mogło wpłynąć na to że miał najlepszy wynik."
   ]
  },
  {
   "cell_type": "markdown",
   "metadata": {},
   "source": [
    "#### W zależności od rozmiaru batcha"
   ]
  },
  {
   "cell_type": "code",
   "execution_count": 282,
   "metadata": {},
   "outputs": [
    {
     "name": "stdout",
     "output_type": "stream",
     "text": [
      "Batch size 3:  0.8235294222831726\n",
      "Batch size 5:  0.831932783126831\n",
      "Batch size 10:  0.756302535533905\n",
      "Batch size 15:  0.5042017102241516\n"
     ]
    }
   ],
   "source": [
    "accuracy_sgd_batch_lowest = process_model(optimizer = SGD(learning_rate=0.01), batch_size=3)\n",
    "accuracy_sgd_batch_low = process_model(optimizer = SGD(learning_rate=0.01), batch_size=5)\n",
    "accuracy_sgd_batch_medium = process_model(optimizer = SGD(learning_rate=0.01), batch_size=10)\n",
    "accuracy_sgd_batch_high = process_model(optimizer = SGD(learning_rate=0.01), batch_size=15)\n",
    "\n",
    "print(\"Batch size 3: \", accuracy_sgd_batch_lowest)\n",
    "print(\"Batch size 5: \", accuracy_sgd_batch_low)\n",
    "print(\"Batch size 10: \", accuracy_sgd_batch_medium)\n",
    "print(\"Batch size 15: \", accuracy_sgd_batch_high)"
   ]
  },
  {
   "cell_type": "markdown",
   "metadata": {},
   "source": [
    "Jak widać dla SGD najlepszy wynik został uzyzkany dla rozmiaru batcha 5. Duże batche pozwalają w bardziej dokładny sposób wyliczyć gradient (ponieważ jest uśredniony dla wielu próbek), ale również narażają model na utknięcie w minimum lokalnym."
   ]
  },
  {
   "cell_type": "markdown",
   "metadata": {},
   "source": [
    "#### W zależności od wartości współczynnika uczenia"
   ]
  },
  {
   "cell_type": "code",
   "execution_count": 276,
   "metadata": {},
   "outputs": [
    {
     "name": "stdout",
     "output_type": "stream",
     "text": [
      "SGD learning_rate 1.0:  0.5042017102241516\n",
      "SGD learning_rate 0.1:  0.8067227005958557\n",
      "SGD learning_rate 0.01:  0.756302535533905\n",
      "SGD learning_rate 0.001:  0.5042017102241516\n"
     ]
    }
   ],
   "source": [
    "accuracy_sgd_10 = process_model(optimizer = SGD(learning_rate=1))\n",
    "accuracy_sgd_1 = process_model(optimizer = SGD(learning_rate=0.1))\n",
    "accuracy_sgd_01 = process_model(optimizer = SGD(learning_rate=0.01))\n",
    "accuracy_sgd_001 = process_model(optimizer = SGD(learning_rate=0.001))\n",
    "\n",
    "print(\"SGD learning_rate 1.0: \", accuracy_sgd_10)\n",
    "print(\"SGD learning_rate 0.1: \", accuracy_sgd_1)\n",
    "print(\"SGD learning_rate 0.01: \", accuracy_sgd_01)\n",
    "print(\"SGD learning_rate 0.001: \", accuracy_sgd_001)"
   ]
  },
  {
   "cell_type": "code",
   "execution_count": 281,
   "metadata": {},
   "outputs": [
    {
     "name": "stdout",
     "output_type": "stream",
     "text": [
      "Adam learning_rate 0.01:  0.8235294222831726\n",
      "Adam learning_rate 0.001:  0.848739504814148\n",
      "Adam learning_rate 0.0001:  0.5042017102241516\n"
     ]
    }
   ],
   "source": [
    "accuracy_adam_01 = process_model(optimizer = Adam(learning_rate=0.01))\n",
    "accuracy_adam_001 = process_model(optimizer = Adam(learning_rate=0.001))\n",
    "accuracy_adam_0001 = process_model(optimizer = Adam(learning_rate=0.0001))\n",
    "\n",
    "print(\"Adam learning_rate 0.01: \", accuracy_adam_01)\n",
    "print(\"Adam learning_rate 0.001: \", accuracy_adam_001)\n",
    "print(\"Adam learning_rate 0.0001: \", accuracy_adam_0001)"
   ]
  },
  {
   "cell_type": "markdown",
   "metadata": {},
   "source": [
    "Jak widać dla SDG najlepszym współczynnikiem uczenia okazał się być 0.1 a dla Adama 0.001. Różnica może wynikać z tego, że Adam stosuje inny algorytm aktualizacji wag, który nie jest oparty wyłącznie na współczynniku uczenia i gradienicie ale również pędzie wyliczanym na podstawie wcześniejszych aktualizacji."
   ]
  }
 ],
 "metadata": {
  "kernelspec": {
   "display_name": "Python 3",
   "language": "python",
   "name": "python3"
  },
  "language_info": {
   "codemirror_mode": {
    "name": "ipython",
    "version": 3
   },
   "file_extension": ".py",
   "mimetype": "text/x-python",
   "name": "python",
   "nbconvert_exporter": "python",
   "pygments_lexer": "ipython3",
   "version": "3.10.11"
  }
 },
 "nbformat": 4,
 "nbformat_minor": 2
}
