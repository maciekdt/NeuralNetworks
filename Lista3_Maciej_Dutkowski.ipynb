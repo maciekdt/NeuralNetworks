{
 "cells": [
  {
   "cell_type": "markdown",
   "metadata": {},
   "source": [
    "## Ćwiczenie 3 - Algorytm propagacji wstecznej\n",
    "Maciej Dutkowski 260396"
   ]
  },
  {
   "cell_type": "markdown",
   "metadata": {},
   "source": [
    "#### Import i porzygotowanie danych"
   ]
  },
  {
   "cell_type": "code",
   "execution_count": 257,
   "metadata": {},
   "outputs": [],
   "source": [
    "from ucimlrepo import fetch_ucirepo\n",
    "import pandas as pd\n",
    "import matplotlib.pyplot as plt\n",
    "import seaborn as sns\n",
    "from sklearn.preprocessing import MinMaxScaler"
   ]
  },
  {
   "cell_type": "code",
   "execution_count": 258,
   "metadata": {},
   "outputs": [],
   "source": [
    "from sklearn.model_selection import train_test_split"
   ]
  },
  {
   "cell_type": "code",
   "execution_count": 259,
   "metadata": {},
   "outputs": [],
   "source": [
    "heart_disease = fetch_ucirepo(id=45) \n",
    "  \n",
    "x = heart_disease.data.features \n",
    "y = heart_disease.data.targets"
   ]
  },
  {
   "cell_type": "code",
   "execution_count": 260,
   "metadata": {},
   "outputs": [],
   "source": [
    "categorical_features_labels = ['sex', 'cp', 'fbs', 'restecg', 'exang', 'slope', 'thal', 'ca']\n",
    "numerical_features_labels = ['age', 'trestbps', 'chol', 'thalach', 'oldpeak']"
   ]
  },
  {
   "cell_type": "markdown",
   "metadata": {},
   "source": [
    "Usuwanie rekordów z brakującymi wartościami"
   ]
  },
  {
   "cell_type": "code",
   "execution_count": 261,
   "metadata": {},
   "outputs": [],
   "source": [
    "indices_to_keep = x.dropna().index\n",
    "x = x.loc[indices_to_keep].reset_index()\n",
    "y = y.loc[indices_to_keep].reset_index()"
   ]
  },
  {
   "cell_type": "markdown",
   "metadata": {},
   "source": [
    "Zamiana etykiet na zbiór {0,1}"
   ]
  },
  {
   "cell_type": "code",
   "execution_count": 262,
   "metadata": {},
   "outputs": [],
   "source": [
    "y = y['num'].apply(lambda x: 0 if x == 0 else 1)"
   ]
  },
  {
   "cell_type": "markdown",
   "metadata": {},
   "source": [
    "Zamiana cech kategorycznych na osobne cechy"
   ]
  },
  {
   "cell_type": "code",
   "execution_count": 263,
   "metadata": {},
   "outputs": [],
   "source": [
    "x = pd.get_dummies(x, columns = categorical_features_labels)\n",
    "x = x.reset_index(drop=True)\n",
    "boolean_columns = x.select_dtypes(include=bool).columns\n",
    "x[boolean_columns] = x[boolean_columns].astype(int)\n",
    "\n",
    "x = x.drop(\"index\", axis=1)"
   ]
  },
  {
   "cell_type": "code",
   "execution_count": 265,
   "metadata": {},
   "outputs": [
    {
     "data": {
      "text/html": [
       "<div>\n",
       "<style scoped>\n",
       "    .dataframe tbody tr th:only-of-type {\n",
       "        vertical-align: middle;\n",
       "    }\n",
       "\n",
       "    .dataframe tbody tr th {\n",
       "        vertical-align: top;\n",
       "    }\n",
       "\n",
       "    .dataframe thead th {\n",
       "        text-align: right;\n",
       "    }\n",
       "</style>\n",
       "<table border=\"1\" class=\"dataframe\">\n",
       "  <thead>\n",
       "    <tr style=\"text-align: right;\">\n",
       "      <th></th>\n",
       "      <th>age</th>\n",
       "      <th>trestbps</th>\n",
       "      <th>chol</th>\n",
       "      <th>thalach</th>\n",
       "      <th>oldpeak</th>\n",
       "      <th>sex_0</th>\n",
       "      <th>sex_1</th>\n",
       "      <th>cp_1</th>\n",
       "      <th>cp_2</th>\n",
       "      <th>cp_3</th>\n",
       "      <th>...</th>\n",
       "      <th>slope_1</th>\n",
       "      <th>slope_2</th>\n",
       "      <th>slope_3</th>\n",
       "      <th>thal_3.0</th>\n",
       "      <th>thal_6.0</th>\n",
       "      <th>thal_7.0</th>\n",
       "      <th>ca_0.0</th>\n",
       "      <th>ca_1.0</th>\n",
       "      <th>ca_2.0</th>\n",
       "      <th>ca_3.0</th>\n",
       "    </tr>\n",
       "  </thead>\n",
       "  <tbody>\n",
       "    <tr>\n",
       "      <th>0</th>\n",
       "      <td>63</td>\n",
       "      <td>145</td>\n",
       "      <td>233</td>\n",
       "      <td>150</td>\n",
       "      <td>2.3</td>\n",
       "      <td>0</td>\n",
       "      <td>1</td>\n",
       "      <td>1</td>\n",
       "      <td>0</td>\n",
       "      <td>0</td>\n",
       "      <td>...</td>\n",
       "      <td>0</td>\n",
       "      <td>0</td>\n",
       "      <td>1</td>\n",
       "      <td>0</td>\n",
       "      <td>1</td>\n",
       "      <td>0</td>\n",
       "      <td>1</td>\n",
       "      <td>0</td>\n",
       "      <td>0</td>\n",
       "      <td>0</td>\n",
       "    </tr>\n",
       "    <tr>\n",
       "      <th>1</th>\n",
       "      <td>67</td>\n",
       "      <td>160</td>\n",
       "      <td>286</td>\n",
       "      <td>108</td>\n",
       "      <td>1.5</td>\n",
       "      <td>0</td>\n",
       "      <td>1</td>\n",
       "      <td>0</td>\n",
       "      <td>0</td>\n",
       "      <td>0</td>\n",
       "      <td>...</td>\n",
       "      <td>0</td>\n",
       "      <td>1</td>\n",
       "      <td>0</td>\n",
       "      <td>1</td>\n",
       "      <td>0</td>\n",
       "      <td>0</td>\n",
       "      <td>0</td>\n",
       "      <td>0</td>\n",
       "      <td>0</td>\n",
       "      <td>1</td>\n",
       "    </tr>\n",
       "    <tr>\n",
       "      <th>2</th>\n",
       "      <td>67</td>\n",
       "      <td>120</td>\n",
       "      <td>229</td>\n",
       "      <td>129</td>\n",
       "      <td>2.6</td>\n",
       "      <td>0</td>\n",
       "      <td>1</td>\n",
       "      <td>0</td>\n",
       "      <td>0</td>\n",
       "      <td>0</td>\n",
       "      <td>...</td>\n",
       "      <td>0</td>\n",
       "      <td>1</td>\n",
       "      <td>0</td>\n",
       "      <td>0</td>\n",
       "      <td>0</td>\n",
       "      <td>1</td>\n",
       "      <td>0</td>\n",
       "      <td>0</td>\n",
       "      <td>1</td>\n",
       "      <td>0</td>\n",
       "    </tr>\n",
       "    <tr>\n",
       "      <th>3</th>\n",
       "      <td>37</td>\n",
       "      <td>130</td>\n",
       "      <td>250</td>\n",
       "      <td>187</td>\n",
       "      <td>3.5</td>\n",
       "      <td>0</td>\n",
       "      <td>1</td>\n",
       "      <td>0</td>\n",
       "      <td>0</td>\n",
       "      <td>1</td>\n",
       "      <td>...</td>\n",
       "      <td>0</td>\n",
       "      <td>0</td>\n",
       "      <td>1</td>\n",
       "      <td>1</td>\n",
       "      <td>0</td>\n",
       "      <td>0</td>\n",
       "      <td>1</td>\n",
       "      <td>0</td>\n",
       "      <td>0</td>\n",
       "      <td>0</td>\n",
       "    </tr>\n",
       "    <tr>\n",
       "      <th>4</th>\n",
       "      <td>41</td>\n",
       "      <td>130</td>\n",
       "      <td>204</td>\n",
       "      <td>172</td>\n",
       "      <td>1.4</td>\n",
       "      <td>1</td>\n",
       "      <td>0</td>\n",
       "      <td>0</td>\n",
       "      <td>1</td>\n",
       "      <td>0</td>\n",
       "      <td>...</td>\n",
       "      <td>1</td>\n",
       "      <td>0</td>\n",
       "      <td>0</td>\n",
       "      <td>1</td>\n",
       "      <td>0</td>\n",
       "      <td>0</td>\n",
       "      <td>1</td>\n",
       "      <td>0</td>\n",
       "      <td>0</td>\n",
       "      <td>0</td>\n",
       "    </tr>\n",
       "    <tr>\n",
       "      <th>...</th>\n",
       "      <td>...</td>\n",
       "      <td>...</td>\n",
       "      <td>...</td>\n",
       "      <td>...</td>\n",
       "      <td>...</td>\n",
       "      <td>...</td>\n",
       "      <td>...</td>\n",
       "      <td>...</td>\n",
       "      <td>...</td>\n",
       "      <td>...</td>\n",
       "      <td>...</td>\n",
       "      <td>...</td>\n",
       "      <td>...</td>\n",
       "      <td>...</td>\n",
       "      <td>...</td>\n",
       "      <td>...</td>\n",
       "      <td>...</td>\n",
       "      <td>...</td>\n",
       "      <td>...</td>\n",
       "      <td>...</td>\n",
       "      <td>...</td>\n",
       "    </tr>\n",
       "    <tr>\n",
       "      <th>292</th>\n",
       "      <td>57</td>\n",
       "      <td>140</td>\n",
       "      <td>241</td>\n",
       "      <td>123</td>\n",
       "      <td>0.2</td>\n",
       "      <td>1</td>\n",
       "      <td>0</td>\n",
       "      <td>0</td>\n",
       "      <td>0</td>\n",
       "      <td>0</td>\n",
       "      <td>...</td>\n",
       "      <td>0</td>\n",
       "      <td>1</td>\n",
       "      <td>0</td>\n",
       "      <td>0</td>\n",
       "      <td>0</td>\n",
       "      <td>1</td>\n",
       "      <td>1</td>\n",
       "      <td>0</td>\n",
       "      <td>0</td>\n",
       "      <td>0</td>\n",
       "    </tr>\n",
       "    <tr>\n",
       "      <th>293</th>\n",
       "      <td>45</td>\n",
       "      <td>110</td>\n",
       "      <td>264</td>\n",
       "      <td>132</td>\n",
       "      <td>1.2</td>\n",
       "      <td>0</td>\n",
       "      <td>1</td>\n",
       "      <td>1</td>\n",
       "      <td>0</td>\n",
       "      <td>0</td>\n",
       "      <td>...</td>\n",
       "      <td>0</td>\n",
       "      <td>1</td>\n",
       "      <td>0</td>\n",
       "      <td>0</td>\n",
       "      <td>0</td>\n",
       "      <td>1</td>\n",
       "      <td>1</td>\n",
       "      <td>0</td>\n",
       "      <td>0</td>\n",
       "      <td>0</td>\n",
       "    </tr>\n",
       "    <tr>\n",
       "      <th>294</th>\n",
       "      <td>68</td>\n",
       "      <td>144</td>\n",
       "      <td>193</td>\n",
       "      <td>141</td>\n",
       "      <td>3.4</td>\n",
       "      <td>0</td>\n",
       "      <td>1</td>\n",
       "      <td>0</td>\n",
       "      <td>0</td>\n",
       "      <td>0</td>\n",
       "      <td>...</td>\n",
       "      <td>0</td>\n",
       "      <td>1</td>\n",
       "      <td>0</td>\n",
       "      <td>0</td>\n",
       "      <td>0</td>\n",
       "      <td>1</td>\n",
       "      <td>0</td>\n",
       "      <td>0</td>\n",
       "      <td>1</td>\n",
       "      <td>0</td>\n",
       "    </tr>\n",
       "    <tr>\n",
       "      <th>295</th>\n",
       "      <td>57</td>\n",
       "      <td>130</td>\n",
       "      <td>131</td>\n",
       "      <td>115</td>\n",
       "      <td>1.2</td>\n",
       "      <td>0</td>\n",
       "      <td>1</td>\n",
       "      <td>0</td>\n",
       "      <td>0</td>\n",
       "      <td>0</td>\n",
       "      <td>...</td>\n",
       "      <td>0</td>\n",
       "      <td>1</td>\n",
       "      <td>0</td>\n",
       "      <td>0</td>\n",
       "      <td>0</td>\n",
       "      <td>1</td>\n",
       "      <td>0</td>\n",
       "      <td>1</td>\n",
       "      <td>0</td>\n",
       "      <td>0</td>\n",
       "    </tr>\n",
       "    <tr>\n",
       "      <th>296</th>\n",
       "      <td>57</td>\n",
       "      <td>130</td>\n",
       "      <td>236</td>\n",
       "      <td>174</td>\n",
       "      <td>0.0</td>\n",
       "      <td>1</td>\n",
       "      <td>0</td>\n",
       "      <td>0</td>\n",
       "      <td>1</td>\n",
       "      <td>0</td>\n",
       "      <td>...</td>\n",
       "      <td>0</td>\n",
       "      <td>1</td>\n",
       "      <td>0</td>\n",
       "      <td>1</td>\n",
       "      <td>0</td>\n",
       "      <td>0</td>\n",
       "      <td>0</td>\n",
       "      <td>1</td>\n",
       "      <td>0</td>\n",
       "      <td>0</td>\n",
       "    </tr>\n",
       "  </tbody>\n",
       "</table>\n",
       "<p>297 rows × 28 columns</p>\n",
       "</div>"
      ],
      "text/plain": [
       "     age  trestbps  chol  thalach  oldpeak  sex_0  sex_1  cp_1  cp_2  cp_3  \\\n",
       "0     63       145   233      150      2.3      0      1     1     0     0   \n",
       "1     67       160   286      108      1.5      0      1     0     0     0   \n",
       "2     67       120   229      129      2.6      0      1     0     0     0   \n",
       "3     37       130   250      187      3.5      0      1     0     0     1   \n",
       "4     41       130   204      172      1.4      1      0     0     1     0   \n",
       "..   ...       ...   ...      ...      ...    ...    ...   ...   ...   ...   \n",
       "292   57       140   241      123      0.2      1      0     0     0     0   \n",
       "293   45       110   264      132      1.2      0      1     1     0     0   \n",
       "294   68       144   193      141      3.4      0      1     0     0     0   \n",
       "295   57       130   131      115      1.2      0      1     0     0     0   \n",
       "296   57       130   236      174      0.0      1      0     0     1     0   \n",
       "\n",
       "     ...  slope_1  slope_2  slope_3  thal_3.0  thal_6.0  thal_7.0  ca_0.0  \\\n",
       "0    ...        0        0        1         0         1         0       1   \n",
       "1    ...        0        1        0         1         0         0       0   \n",
       "2    ...        0        1        0         0         0         1       0   \n",
       "3    ...        0        0        1         1         0         0       1   \n",
       "4    ...        1        0        0         1         0         0       1   \n",
       "..   ...      ...      ...      ...       ...       ...       ...     ...   \n",
       "292  ...        0        1        0         0         0         1       1   \n",
       "293  ...        0        1        0         0         0         1       1   \n",
       "294  ...        0        1        0         0         0         1       0   \n",
       "295  ...        0        1        0         0         0         1       0   \n",
       "296  ...        0        1        0         1         0         0       0   \n",
       "\n",
       "     ca_1.0  ca_2.0  ca_3.0  \n",
       "0         0       0       0  \n",
       "1         0       0       1  \n",
       "2         0       1       0  \n",
       "3         0       0       0  \n",
       "4         0       0       0  \n",
       "..      ...     ...     ...  \n",
       "292       0       0       0  \n",
       "293       0       0       0  \n",
       "294       0       1       0  \n",
       "295       1       0       0  \n",
       "296       1       0       0  \n",
       "\n",
       "[297 rows x 28 columns]"
      ]
     },
     "metadata": {},
     "output_type": "display_data"
    },
    {
     "data": {
      "text/plain": [
       "0      0\n",
       "1      1\n",
       "2      1\n",
       "3      0\n",
       "4      0\n",
       "      ..\n",
       "292    1\n",
       "293    1\n",
       "294    1\n",
       "295    1\n",
       "296    1\n",
       "Name: num, Length: 297, dtype: int64"
      ]
     },
     "metadata": {},
     "output_type": "display_data"
    }
   ],
   "source": [
    "display(x,y)"
   ]
  },
  {
   "cell_type": "markdown",
   "metadata": {},
   "source": [
    "Podział danych na zbiór treningowy i testujący"
   ]
  },
  {
   "cell_type": "code",
   "execution_count": 266,
   "metadata": {},
   "outputs": [],
   "source": [
    "x_train, x_test, y_train, y_test = train_test_split(x, y, test_size = 0.3, random_state = 42)"
   ]
  },
  {
   "cell_type": "markdown",
   "metadata": {},
   "source": [
    "Utworzenie alternatywnego zbioru treningowego i testowego z znormalizowanymi wartościami liczbowymi"
   ]
  },
  {
   "cell_type": "code",
   "execution_count": 427,
   "metadata": {},
   "outputs": [
    {
     "data": {
      "text/html": [
       "<div>\n",
       "<style scoped>\n",
       "    .dataframe tbody tr th:only-of-type {\n",
       "        vertical-align: middle;\n",
       "    }\n",
       "\n",
       "    .dataframe tbody tr th {\n",
       "        vertical-align: top;\n",
       "    }\n",
       "\n",
       "    .dataframe thead th {\n",
       "        text-align: right;\n",
       "    }\n",
       "</style>\n",
       "<table border=\"1\" class=\"dataframe\">\n",
       "  <thead>\n",
       "    <tr style=\"text-align: right;\">\n",
       "      <th></th>\n",
       "      <th>index</th>\n",
       "      <th>age</th>\n",
       "      <th>trestbps</th>\n",
       "      <th>chol</th>\n",
       "      <th>thalach</th>\n",
       "      <th>oldpeak</th>\n",
       "      <th>sex_0</th>\n",
       "      <th>sex_1</th>\n",
       "      <th>cp_1</th>\n",
       "      <th>cp_2</th>\n",
       "      <th>...</th>\n",
       "      <th>slope_1</th>\n",
       "      <th>slope_2</th>\n",
       "      <th>slope_3</th>\n",
       "      <th>thal_3.0</th>\n",
       "      <th>thal_6.0</th>\n",
       "      <th>thal_7.0</th>\n",
       "      <th>ca_0.0</th>\n",
       "      <th>ca_1.0</th>\n",
       "      <th>ca_2.0</th>\n",
       "      <th>ca_3.0</th>\n",
       "    </tr>\n",
       "  </thead>\n",
       "  <tbody>\n",
       "    <tr>\n",
       "      <th>0</th>\n",
       "      <td>266</td>\n",
       "      <td>0.666667</td>\n",
       "      <td>0.469388</td>\n",
       "      <td>0.184932</td>\n",
       "      <td>0.511450</td>\n",
       "      <td>0.339286</td>\n",
       "      <td>0</td>\n",
       "      <td>1</td>\n",
       "      <td>0</td>\n",
       "      <td>0</td>\n",
       "      <td>...</td>\n",
       "      <td>1</td>\n",
       "      <td>0</td>\n",
       "      <td>0</td>\n",
       "      <td>0</td>\n",
       "      <td>0</td>\n",
       "      <td>1</td>\n",
       "      <td>0</td>\n",
       "      <td>1</td>\n",
       "      <td>0</td>\n",
       "      <td>0</td>\n",
       "    </tr>\n",
       "    <tr>\n",
       "      <th>1</th>\n",
       "      <td>37</td>\n",
       "      <td>0.583333</td>\n",
       "      <td>0.571429</td>\n",
       "      <td>0.342466</td>\n",
       "      <td>0.312977</td>\n",
       "      <td>0.107143</td>\n",
       "      <td>0</td>\n",
       "      <td>1</td>\n",
       "      <td>0</td>\n",
       "      <td>0</td>\n",
       "      <td>...</td>\n",
       "      <td>0</td>\n",
       "      <td>1</td>\n",
       "      <td>0</td>\n",
       "      <td>0</td>\n",
       "      <td>1</td>\n",
       "      <td>0</td>\n",
       "      <td>0</td>\n",
       "      <td>1</td>\n",
       "      <td>0</td>\n",
       "      <td>0</td>\n",
       "    </tr>\n",
       "    <tr>\n",
       "      <th>2</th>\n",
       "      <td>16</td>\n",
       "      <td>0.395833</td>\n",
       "      <td>0.163265</td>\n",
       "      <td>0.235160</td>\n",
       "      <td>0.740458</td>\n",
       "      <td>0.178571</td>\n",
       "      <td>0</td>\n",
       "      <td>1</td>\n",
       "      <td>0</td>\n",
       "      <td>1</td>\n",
       "      <td>...</td>\n",
       "      <td>0</td>\n",
       "      <td>0</td>\n",
       "      <td>1</td>\n",
       "      <td>0</td>\n",
       "      <td>0</td>\n",
       "      <td>1</td>\n",
       "      <td>1</td>\n",
       "      <td>0</td>\n",
       "      <td>0</td>\n",
       "      <td>0</td>\n",
       "    </tr>\n",
       "    <tr>\n",
       "      <th>3</th>\n",
       "      <td>253</td>\n",
       "      <td>0.791667</td>\n",
       "      <td>0.122449</td>\n",
       "      <td>0.221461</td>\n",
       "      <td>0.541985</td>\n",
       "      <td>0.053571</td>\n",
       "      <td>1</td>\n",
       "      <td>0</td>\n",
       "      <td>0</td>\n",
       "      <td>0</td>\n",
       "      <td>...</td>\n",
       "      <td>1</td>\n",
       "      <td>0</td>\n",
       "      <td>0</td>\n",
       "      <td>1</td>\n",
       "      <td>0</td>\n",
       "      <td>0</td>\n",
       "      <td>0</td>\n",
       "      <td>0</td>\n",
       "      <td>1</td>\n",
       "      <td>0</td>\n",
       "    </tr>\n",
       "    <tr>\n",
       "      <th>4</th>\n",
       "      <td>144</td>\n",
       "      <td>0.375000</td>\n",
       "      <td>0.142857</td>\n",
       "      <td>0.267123</td>\n",
       "      <td>0.618321</td>\n",
       "      <td>0.000000</td>\n",
       "      <td>0</td>\n",
       "      <td>1</td>\n",
       "      <td>0</td>\n",
       "      <td>0</td>\n",
       "      <td>...</td>\n",
       "      <td>1</td>\n",
       "      <td>0</td>\n",
       "      <td>0</td>\n",
       "      <td>1</td>\n",
       "      <td>0</td>\n",
       "      <td>0</td>\n",
       "      <td>1</td>\n",
       "      <td>0</td>\n",
       "      <td>0</td>\n",
       "      <td>0</td>\n",
       "    </tr>\n",
       "    <tr>\n",
       "      <th>...</th>\n",
       "      <td>...</td>\n",
       "      <td>...</td>\n",
       "      <td>...</td>\n",
       "      <td>...</td>\n",
       "      <td>...</td>\n",
       "      <td>...</td>\n",
       "      <td>...</td>\n",
       "      <td>...</td>\n",
       "      <td>...</td>\n",
       "      <td>...</td>\n",
       "      <td>...</td>\n",
       "      <td>...</td>\n",
       "      <td>...</td>\n",
       "      <td>...</td>\n",
       "      <td>...</td>\n",
       "      <td>...</td>\n",
       "      <td>...</td>\n",
       "      <td>...</td>\n",
       "      <td>...</td>\n",
       "      <td>...</td>\n",
       "      <td>...</td>\n",
       "    </tr>\n",
       "    <tr>\n",
       "      <th>202</th>\n",
       "      <td>188</td>\n",
       "      <td>0.437500</td>\n",
       "      <td>0.357143</td>\n",
       "      <td>0.159817</td>\n",
       "      <td>0.702290</td>\n",
       "      <td>0.000000</td>\n",
       "      <td>0</td>\n",
       "      <td>1</td>\n",
       "      <td>0</td>\n",
       "      <td>0</td>\n",
       "      <td>...</td>\n",
       "      <td>1</td>\n",
       "      <td>0</td>\n",
       "      <td>0</td>\n",
       "      <td>1</td>\n",
       "      <td>0</td>\n",
       "      <td>0</td>\n",
       "      <td>1</td>\n",
       "      <td>0</td>\n",
       "      <td>0</td>\n",
       "      <td>0</td>\n",
       "    </tr>\n",
       "    <tr>\n",
       "      <th>203</th>\n",
       "      <td>71</td>\n",
       "      <td>0.791667</td>\n",
       "      <td>0.316327</td>\n",
       "      <td>0.292237</td>\n",
       "      <td>0.702290</td>\n",
       "      <td>0.035714</td>\n",
       "      <td>0</td>\n",
       "      <td>1</td>\n",
       "      <td>0</td>\n",
       "      <td>0</td>\n",
       "      <td>...</td>\n",
       "      <td>0</td>\n",
       "      <td>1</td>\n",
       "      <td>0</td>\n",
       "      <td>0</td>\n",
       "      <td>0</td>\n",
       "      <td>1</td>\n",
       "      <td>0</td>\n",
       "      <td>0</td>\n",
       "      <td>1</td>\n",
       "      <td>0</td>\n",
       "    </tr>\n",
       "    <tr>\n",
       "      <th>204</th>\n",
       "      <td>106</td>\n",
       "      <td>0.583333</td>\n",
       "      <td>0.346939</td>\n",
       "      <td>0.235160</td>\n",
       "      <td>0.603053</td>\n",
       "      <td>0.071429</td>\n",
       "      <td>0</td>\n",
       "      <td>1</td>\n",
       "      <td>0</td>\n",
       "      <td>0</td>\n",
       "      <td>...</td>\n",
       "      <td>0</td>\n",
       "      <td>1</td>\n",
       "      <td>0</td>\n",
       "      <td>0</td>\n",
       "      <td>0</td>\n",
       "      <td>1</td>\n",
       "      <td>0</td>\n",
       "      <td>1</td>\n",
       "      <td>0</td>\n",
       "      <td>0</td>\n",
       "    </tr>\n",
       "    <tr>\n",
       "      <th>205</th>\n",
       "      <td>270</td>\n",
       "      <td>0.625000</td>\n",
       "      <td>0.408163</td>\n",
       "      <td>0.178082</td>\n",
       "      <td>0.694656</td>\n",
       "      <td>0.142857</td>\n",
       "      <td>0</td>\n",
       "      <td>1</td>\n",
       "      <td>1</td>\n",
       "      <td>0</td>\n",
       "      <td>...</td>\n",
       "      <td>1</td>\n",
       "      <td>0</td>\n",
       "      <td>0</td>\n",
       "      <td>1</td>\n",
       "      <td>0</td>\n",
       "      <td>0</td>\n",
       "      <td>0</td>\n",
       "      <td>0</td>\n",
       "      <td>1</td>\n",
       "      <td>0</td>\n",
       "    </tr>\n",
       "    <tr>\n",
       "      <th>206</th>\n",
       "      <td>102</td>\n",
       "      <td>0.875000</td>\n",
       "      <td>0.163265</td>\n",
       "      <td>0.317352</td>\n",
       "      <td>0.450382</td>\n",
       "      <td>0.000000</td>\n",
       "      <td>1</td>\n",
       "      <td>0</td>\n",
       "      <td>0</td>\n",
       "      <td>0</td>\n",
       "      <td>...</td>\n",
       "      <td>1</td>\n",
       "      <td>0</td>\n",
       "      <td>0</td>\n",
       "      <td>1</td>\n",
       "      <td>0</td>\n",
       "      <td>0</td>\n",
       "      <td>0</td>\n",
       "      <td>1</td>\n",
       "      <td>0</td>\n",
       "      <td>0</td>\n",
       "    </tr>\n",
       "  </tbody>\n",
       "</table>\n",
       "<p>207 rows × 29 columns</p>\n",
       "</div>"
      ],
      "text/plain": [
       "     index       age  trestbps      chol   thalach   oldpeak  sex_0  sex_1  \\\n",
       "0      266  0.666667  0.469388  0.184932  0.511450  0.339286      0      1   \n",
       "1       37  0.583333  0.571429  0.342466  0.312977  0.107143      0      1   \n",
       "2       16  0.395833  0.163265  0.235160  0.740458  0.178571      0      1   \n",
       "3      253  0.791667  0.122449  0.221461  0.541985  0.053571      1      0   \n",
       "4      144  0.375000  0.142857  0.267123  0.618321  0.000000      0      1   \n",
       "..     ...       ...       ...       ...       ...       ...    ...    ...   \n",
       "202    188  0.437500  0.357143  0.159817  0.702290  0.000000      0      1   \n",
       "203     71  0.791667  0.316327  0.292237  0.702290  0.035714      0      1   \n",
       "204    106  0.583333  0.346939  0.235160  0.603053  0.071429      0      1   \n",
       "205    270  0.625000  0.408163  0.178082  0.694656  0.142857      0      1   \n",
       "206    102  0.875000  0.163265  0.317352  0.450382  0.000000      1      0   \n",
       "\n",
       "     cp_1  cp_2  ...  slope_1  slope_2  slope_3  thal_3.0  thal_6.0  thal_7.0  \\\n",
       "0       0     0  ...        1        0        0         0         0         1   \n",
       "1       0     0  ...        0        1        0         0         1         0   \n",
       "2       0     1  ...        0        0        1         0         0         1   \n",
       "3       0     0  ...        1        0        0         1         0         0   \n",
       "4       0     0  ...        1        0        0         1         0         0   \n",
       "..    ...   ...  ...      ...      ...      ...       ...       ...       ...   \n",
       "202     0     0  ...        1        0        0         1         0         0   \n",
       "203     0     0  ...        0        1        0         0         0         1   \n",
       "204     0     0  ...        0        1        0         0         0         1   \n",
       "205     1     0  ...        1        0        0         1         0         0   \n",
       "206     0     0  ...        1        0        0         1         0         0   \n",
       "\n",
       "     ca_0.0  ca_1.0  ca_2.0  ca_3.0  \n",
       "0         0       1       0       0  \n",
       "1         0       1       0       0  \n",
       "2         1       0       0       0  \n",
       "3         0       0       1       0  \n",
       "4         1       0       0       0  \n",
       "..      ...     ...     ...     ...  \n",
       "202       1       0       0       0  \n",
       "203       0       0       1       0  \n",
       "204       0       1       0       0  \n",
       "205       0       0       1       0  \n",
       "206       0       1       0       0  \n",
       "\n",
       "[207 rows x 29 columns]"
      ]
     },
     "metadata": {},
     "output_type": "display_data"
    }
   ],
   "source": [
    "x_train_nor = x_train.copy()\n",
    "x_test_nor = x_test.copy()\n",
    "\n",
    "scaler = MinMaxScaler()\n",
    "x_train_nor[numerical_features_labels] = scaler.fit_transform(x_train_nor[numerical_features_labels])\n",
    "x_test_nor[numerical_features_labels] = scaler.fit_transform(x_test_nor[numerical_features_labels])\n",
    "\n",
    "x_train_nor = x_train_nor.reset_index()\n",
    "x_test_nor = x_test_nor.reset_index()\n",
    "\n",
    "display(x_train_nor)"
   ]
  },
  {
   "cell_type": "markdown",
   "metadata": {},
   "source": [
    "### Model wielowarswowej sieci"
   ]
  },
  {
   "cell_type": "code",
   "execution_count": 268,
   "metadata": {},
   "outputs": [],
   "source": [
    "import numpy as np\n",
    "from sklearn.utils import shuffle\n",
    "from sklearn.metrics import accuracy_score, precision_score, recall_score, f1_score"
   ]
  },
  {
   "cell_type": "markdown",
   "metadata": {},
   "source": [
    "Na początku zdefiniowałem funkcję aktywacji dla modelu. Na poczatku był to sigmoid dla każdej warstwy, jednak przy takim podejściu z powodu zanikającego gradientu, wagi na pierwszych wartstwach ukrytych nie były praktycznie wogóle zmieniane, co skutkowało bardzo słabym dopasowaniem modelu. Aby rozwiązać ten problem zdecydowałem się na zastosowanie na ukrytych warstwach funkcji ReLU jako funkcji aktywacji. Pochadna tej funkcja w przeciwieństwie do sigmoidu nawet dla bardzo dużych wartości argumentów nie zbiega do 0, dzięki czemu rozwiązuje problem zanikającego gradientu. Na ostatniej warstwie jako funkcję aktywacji zostawiłem sigmoid, ponieważ ostateczny wynik musi być z przedziału od 0 do 1."
   ]
  },
  {
   "cell_type": "code",
   "execution_count": 269,
   "metadata": {},
   "outputs": [],
   "source": [
    "def hidden_activation(z: np.ndarray):\n",
    "    return np.maximum(0, z)\n",
    "\n",
    "def hidden_activation_deriv(z: np.ndarray):\n",
    "    return np.where(z > 0, 1, 0)\n",
    "\n",
    "def output_activation(z: np.ndarray):\n",
    "    return 1 / (1 + np.exp(-z))\n",
    "\n",
    "def output_activation_deriv(z: np.ndarray):\n",
    "    sig = hidden_activation(z)\n",
    "    return sig * (1 - sig)"
   ]
  },
  {
   "cell_type": "markdown",
   "metadata": {},
   "source": [
    "Następnie zdefiniowałem funkcję liczącą wartość pochodnej funkcji kosztu (entropia krzyżowa) przemnożoną przez pochodną funkcji aktywacji (sigmoid) na ostatniej wartstwie."
   ]
  },
  {
   "cell_type": "code",
   "execution_count": 270,
   "metadata": {},
   "outputs": [],
   "source": [
    "def lce_cost_deriv(y: float, y_pred: float):\n",
    "    return np.array([-(y/y_pred)])"
   ]
  },
  {
   "cell_type": "markdown",
   "metadata": {},
   "source": [
    "Następnie zdefiniowałem funkcję generującą macierz wag i biasów dla wybranego kształu sieci (L - ilość wartsw, M - ilość neuronów na jednej warstwie). Ostatnia warstwa składa się z tylko jednego neuronu, gdyż rozważamy problem klasyfikacji binarnej. Początkowo wagi i biasy ustawiałem na losowe wartości z zakresu od 0 do 1, jednak doprowadzało to do bardzo słabych wyników sieci, a wręcz uniemożliwiało jej naukę. Aby rozwiązać ten problem zdecydowałem się inicjalizować wagi w zależności od funkcji aktywacji danej warstwy. Dla wartsw korzystających z funkcji ReLU wybrałem He inicjalizację, która jest rekomandowana dla tej funkcji. Natomiast dla wartw korzystających z sigmoidu (w moim przypadku ostatnia wartstwa) zdecydowałem się na inicjalizację Xavier/Glorot. Macierz biasów natomiast jest inicjalizowana na wartość 0, co jest powszechną metodą."
   ]
  },
  {
   "cell_type": "code",
   "execution_count": 274,
   "metadata": {},
   "outputs": [],
   "source": [
    "\n",
    "def generate_random_network_2(L, M):\n",
    "    w = []\n",
    "    b = []\n",
    "\n",
    "    w.append(np.random.randn(M, 28) * np.sqrt(2. / 28))\n",
    "    b.append(np.zeros(M))\n",
    "\n",
    "    for i in range(L-2):\n",
    "        w.append(np.random.randn(M, M) * np.sqrt(2. / M))\n",
    "        b.append(np.zeros(M))\n",
    "\n",
    "    w.append(np.random.randn(1, M) * np.sqrt(2. / (M + 1)))\n",
    "    b.append(np.zeros(1))\n",
    "\n",
    "    return w, b"
   ]
  },
  {
   "cell_type": "markdown",
   "metadata": {},
   "source": [
    "Następnie została zdefiniowana funkcja licząca pochodne funkcji błędu na każdej warstwie, na ostatniej warstwie jest to zdefiniowana wcześniej pochodna entropii krzyżowej i sigmoidu, dla wcześniejszych jest on liczony za pomocą rzutowania błędu wstecz."
   ]
  },
  {
   "cell_type": "code",
   "execution_count": 271,
   "metadata": {},
   "outputs": [],
   "source": [
    "def calculate_loss(y, z, a, w, L):   \n",
    "    loss = []\n",
    "    loss.append((lce_cost_deriv(y, a[L-1]) * output_activation_deriv(z[L-1]))[0])\n",
    "    for i in range(L-2, -1, -1):\n",
    "        loss_i = (w[i+1].T @ loss[0]) * hidden_activation_deriv(z[i])\n",
    "        loss.insert(0, loss_i)\n",
    "    return loss\n"
   ]
  },
  {
   "cell_type": "markdown",
   "metadata": {},
   "source": [
    "Funkcjia uaktualniąca wartości wag i biasów, dla ustalonego współczynnika uczenia."
   ]
  },
  {
   "cell_type": "code",
   "execution_count": 272,
   "metadata": {},
   "outputs": [],
   "source": [
    "def update_weights(w, b, a, x, loss, alpha_rate: float, L):    \n",
    "    for i in range(L-1, -1, -1):\n",
    "        if(i > 0):\n",
    "            w[i] = w[i] - alpha_rate * np.outer(loss[i], a[i-1])\n",
    "        else:\n",
    "            w[i] = w[i] - alpha_rate * np.outer(loss[i], x)\n",
    "        b[i] = b[i] - alpha_rate * loss[i]\n"
   ]
  },
  {
   "cell_type": "markdown",
   "metadata": {},
   "source": [
    "Funkcja przeprowadzająca proces uczenia dla jednego przykładu."
   ]
  },
  {
   "cell_type": "code",
   "execution_count": 273,
   "metadata": {},
   "outputs": [],
   "source": [
    "def one_sample_learn(x, y, w, b, L, alpha_rate):    \n",
    "    z = []\n",
    "    a = []\n",
    "    for i in range(0, L):\n",
    "        if(i == 0):\n",
    "            z.append((w[i] @ x) + b[i])\n",
    "        else:\n",
    "            z.append((w[i] @ a[i-1]) + b[i])\n",
    "\n",
    "        if(i < L-1):\n",
    "            a.append(hidden_activation(z[i]))\n",
    "        else:\n",
    "            a.append(output_activation(z[i]))\n",
    "\n",
    "    loss = calculate_loss(y=y, z=z, a=a, w=w, L=L)\n",
    "    update_weights(w=w, b=b, a=a, x=x, loss=loss, alpha_rate=alpha_rate, L=L)"
   ]
  },
  {
   "cell_type": "markdown",
   "metadata": {},
   "source": [
    "Oraz ostatania funkcja przeprowadzająca proces uczenia dla całego zbioru treningowego dla wybranej liczby epok."
   ]
  },
  {
   "cell_type": "code",
   "execution_count": 278,
   "metadata": {},
   "outputs": [],
   "source": [
    "def learn_network(x_train, y_train, L, M, alpha_rate, epochs):    \n",
    "    w,b = generate_random_network_2(L,M)\n",
    "    for _ in range(epochs):\n",
    "        for i, x in x_train.iterrows():\n",
    "            x = x.to_numpy()\n",
    "            one_sample_learn(x=x, y=y_train[i], w=w, b=b, L=L, alpha_rate=alpha_rate)\n",
    "    return w,b"
   ]
  },
  {
   "cell_type": "markdown",
   "metadata": {},
   "source": [
    "Dodatkowo została zdefiniowana dodatkowa funkcja, która dla danej macierzy testowej na podstawie parametrów modelu zwraca wektor przewidywanych etykiet."
   ]
  },
  {
   "cell_type": "code",
   "execution_count": 276,
   "metadata": {},
   "outputs": [],
   "source": [
    "def model(x_test, w, b):\n",
    "    L = len(w)\n",
    "    y_pred_test = []\n",
    "    for _, x in x_test.iterrows():\n",
    "        x = x.to_numpy()\n",
    "        z = []\n",
    "        a = []\n",
    "        for i in range(0, L):\n",
    "            if(i == 0):\n",
    "                z.append((w[i] @ x) + b[i])\n",
    "            else:\n",
    "                z.append((w[i] @ a[i-1]) + b[i])\n",
    "\n",
    "            if(i < L-1):\n",
    "                a.append(hidden_activation(z[i]))\n",
    "            else:\n",
    "                a.append(output_activation(z[i]))\n",
    "        y_pred_test.append(a[L-1][0])\n",
    "    return y_pred_test"
   ]
  },
  {
   "cell_type": "markdown",
   "metadata": {},
   "source": [
    "Oraz funkcja testująca dokładność danej sieci (na podstawie macierzy wag i biasów)."
   ]
  },
  {
   "cell_type": "code",
   "execution_count": 277,
   "metadata": {},
   "outputs": [],
   "source": [
    "def get_model_accuracy(w, b, x_test, y_test):\n",
    "    y_pred_test = model(x_test=x_test, w=w, b=b)\n",
    "    threshold = 0.5\n",
    "    y_pred_test_binary = np.where(np.array(y_pred_test) < threshold, 0, 1)\n",
    "    return accuracy_score(y_test, y_pred_test_binary)"
   ]
  },
  {
   "cell_type": "markdown",
   "metadata": {},
   "source": [
    "### Badanie wyników sieci dla różnych hiperparametrów"
   ]
  },
  {
   "cell_type": "markdown",
   "metadata": {},
   "source": [
    "#### Różne wymiarowości warstwy ukrytej"
   ]
  },
  {
   "cell_type": "markdown",
   "metadata": {},
   "source": [
    "3x2"
   ]
  },
  {
   "cell_type": "code",
   "execution_count": 290,
   "metadata": {},
   "outputs": [
    {
     "name": "stdout",
     "output_type": "stream",
     "text": [
      "Accuracy:  0.6333333333333333\n"
     ]
    }
   ],
   "source": [
    "w,b = learn_network(x_train=x_train, y_train=y_train, L=3, M=2, alpha_rate=0.01, epochs=50)\n",
    "print(\"Accuracy: \", get_model_accuracy(w=w, b=b, x_test=x_test, y_test=y_test))"
   ]
  },
  {
   "cell_type": "markdown",
   "metadata": {},
   "source": [
    "5x3"
   ]
  },
  {
   "cell_type": "code",
   "execution_count": 291,
   "metadata": {},
   "outputs": [
    {
     "name": "stdout",
     "output_type": "stream",
     "text": [
      "Accuracy:  0.5444444444444444\n"
     ]
    }
   ],
   "source": [
    "w,b = learn_network(x_train=x_train, y_train=y_train, L=5, M=3, alpha_rate=0.01, epochs=50)\n",
    "print(\"Accuracy: \", get_model_accuracy(w=w, b=b, x_test=x_test, y_test=y_test))"
   ]
  },
  {
   "cell_type": "markdown",
   "metadata": {},
   "source": [
    "7x4"
   ]
  },
  {
   "cell_type": "code",
   "execution_count": 292,
   "metadata": {},
   "outputs": [
    {
     "name": "stdout",
     "output_type": "stream",
     "text": [
      "Accuracy:  0.45555555555555555\n"
     ]
    }
   ],
   "source": [
    "w,b = learn_network(x_train=x_train, y_train=y_train, L=7, M=4, alpha_rate=0.01, epochs=50)\n",
    "print(\"Accuracy: \", get_model_accuracy(w=w, b=b, x_test=x_test, y_test=y_test))"
   ]
  },
  {
   "cell_type": "markdown",
   "metadata": {},
   "source": [
    "Sieć została przetestowana dla kilku różnych wymiarowości sieci (3x2, 5x3, 7x4), jak widać sieć uzyskała największą dokładność dla wymiarów 3x2. Widać, że im większa sieć tym gorsze wyniki, może to świadczyć o tym, że dla większych sieci występował efekt przeuczenia."
   ]
  },
  {
   "cell_type": "markdown",
   "metadata": {},
   "source": [
    "#### Różne wartości współczynnika uczenia"
   ]
  },
  {
   "cell_type": "markdown",
   "metadata": {},
   "source": [
    "0.1"
   ]
  },
  {
   "cell_type": "code",
   "execution_count": 300,
   "metadata": {},
   "outputs": [
    {
     "name": "stdout",
     "output_type": "stream",
     "text": [
      "Accuracy:  0.6\n"
     ]
    }
   ],
   "source": [
    "w,b = learn_network(x_train=x_train, y_train=y_train, L=3, M=2, alpha_rate=0.1, epochs=50)\n",
    "print(\"Accuracy: \", get_model_accuracy(w=w, b=b, x_test=x_test, y_test=y_test))"
   ]
  },
  {
   "cell_type": "markdown",
   "metadata": {},
   "source": [
    "0.01"
   ]
  },
  {
   "cell_type": "code",
   "execution_count": 392,
   "metadata": {},
   "outputs": [
    {
     "name": "stdout",
     "output_type": "stream",
     "text": [
      "Accuracy:  0.5444444444444444\n"
     ]
    }
   ],
   "source": [
    "w,b = learn_network(x_train=x_train, y_train=y_train, L=3, M=2, alpha_rate=0.01, epochs=50)\n",
    "print(\"Accuracy: \", get_model_accuracy(w=w, b=b, x_test=x_test, y_test=y_test))"
   ]
  },
  {
   "cell_type": "markdown",
   "metadata": {},
   "source": [
    "0.001"
   ]
  },
  {
   "cell_type": "code",
   "execution_count": 436,
   "metadata": {},
   "outputs": [
    {
     "name": "stdout",
     "output_type": "stream",
     "text": [
      "Accuracy:  0.45555555555555555\n"
     ]
    }
   ],
   "source": [
    "w,b = learn_network(x_train=x_train, y_train=y_train, L=3, M=2, alpha_rate=0.001, epochs=100)\n",
    "print(\"Accuracy: \", get_model_accuracy(w=w, b=b, x_test=x_test, y_test=y_test))"
   ]
  },
  {
   "cell_type": "markdown",
   "metadata": {},
   "source": [
    "Jak widać model usyskał największą dokłądność dla współczynnika uczenia 0.1."
   ]
  },
  {
   "cell_type": "markdown",
   "metadata": {},
   "source": [
    "### Dane znormalizowane"
   ]
  },
  {
   "cell_type": "code",
   "execution_count": 426,
   "metadata": {},
   "outputs": [
    {
     "name": "stdout",
     "output_type": "stream",
     "text": [
      "Accuracy:  0.6777777777777778\n"
     ]
    }
   ],
   "source": [
    "w,b = learn_network(x_train=x_train_nor, y_train=y_train, L=3, M=2, alpha_rate=0.01, epochs=30)\n",
    "print(\"Accuracy: \", get_model_accuracy(w=w, b=b, x_test=x_test_nor, y_test=y_test))"
   ]
  },
  {
   "cell_type": "markdown",
   "metadata": {},
   "source": [
    "Dla danych znormalizowanych sieci miała największą dokładność (w okolicach 70%), choć było to mocno zależne od inicjacji wag. Dane znormalizowane są lepiej przetwarzane przez funkcję sigmoid (gradient ma większe wartości) z której korzystamy na ostatniej warstwie. Funkcja ReLU również lepiej działa dla znormalizopwanych danych."
   ]
  }
 ],
 "metadata": {
  "kernelspec": {
   "display_name": "Python 3",
   "language": "python",
   "name": "python3"
  },
  "language_info": {
   "codemirror_mode": {
    "name": "ipython",
    "version": 3
   },
   "file_extension": ".py",
   "mimetype": "text/x-python",
   "name": "python",
   "nbconvert_exporter": "python",
   "pygments_lexer": "ipython3",
   "version": "3.10.11"
  }
 },
 "nbformat": 4,
 "nbformat_minor": 2
}
