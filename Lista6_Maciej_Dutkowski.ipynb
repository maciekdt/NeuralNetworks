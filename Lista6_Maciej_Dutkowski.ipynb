{
 "cells": [
  {
   "cell_type": "markdown",
   "metadata": {},
   "source": [
    "## Ćwiczenie 6 - Sieć CNN\n",
    "Maciej Dutkowski 260396"
   ]
  },
  {
   "cell_type": "markdown",
   "metadata": {},
   "source": [
    "### Import i analizana danych"
   ]
  },
  {
   "cell_type": "code",
   "execution_count": 40,
   "metadata": {},
   "outputs": [],
   "source": [
    "import torch\n",
    "import torchvision\n",
    "import matplotlib.pyplot as plt\n",
    "import numpy as np\n",
    "import torchvision.transforms as transforms\n",
    "import warnings"
   ]
  },
  {
   "cell_type": "code",
   "execution_count": 41,
   "metadata": {},
   "outputs": [],
   "source": [
    "warnings.filterwarnings('ignore')"
   ]
  },
  {
   "cell_type": "code",
   "execution_count": 2,
   "metadata": {},
   "outputs": [],
   "source": [
    "transform = transforms.Compose([\n",
    "    transforms.ToTensor(),\n",
    "    transforms.Normalize((0.5,), (0.5,))\n",
    "])\n",
    "\n",
    "data = torchvision.datasets.FashionMNIST('./test', download = True, transform=transform)\n",
    "data_loader = torch.utils.data.DataLoader(data,\n",
    " batch_size=8,\n",
    " shuffle=True)"
   ]
  },
  {
   "cell_type": "markdown",
   "metadata": {},
   "source": [
    "Dane zostają pobrane z datasetu torchvision FashionMNIST i zapisane w pamięci. "
   ]
  },
  {
   "cell_type": "code",
   "execution_count": 3,
   "metadata": {},
   "outputs": [
    {
     "name": "stdout",
     "output_type": "stream",
     "text": [
      "Data set size: 60000\n"
     ]
    }
   ],
   "source": [
    "print(\"Data set size:\", len(data))"
   ]
  },
  {
   "cell_type": "markdown",
   "metadata": {},
   "source": [
    "Próbek jest 60 000."
   ]
  },
  {
   "cell_type": "code",
   "execution_count": 4,
   "metadata": {},
   "outputs": [],
   "source": [
    "classes = ['T-shirt/top', 'Trouser', 'Pullover', 'Dress', 'Coat', \n",
    "           'Sandal', 'Shirt', 'Sneaker', 'Bag', 'Ankle boot']"
   ]
  },
  {
   "cell_type": "markdown",
   "metadata": {},
   "source": [
    "Klas 10 i każda z nich reprezentuje jeden typ ubrań."
   ]
  },
  {
   "cell_type": "code",
   "execution_count": 5,
   "metadata": {},
   "outputs": [
    {
     "name": "stdout",
     "output_type": "stream",
     "text": [
      "Label :  tensor(8) Bag\n",
      "Image size :  torch.Size([8, 1, 28, 28])\n",
      "Image row :  tensor([-0.2235, -0.0510,  0.0118, -0.3725, -0.1686, -0.3333, -0.4980, -0.5765,\n",
      "        -0.4824, -0.4510, -0.4588, -0.4353, -0.4196, -0.4353, -0.4196, -0.4275,\n",
      "        -0.4745, -0.4824, -0.4745, -0.4196, -0.3255, -0.3333, -0.1922, -0.4510,\n",
      "        -0.5765, -0.1529, -0.1216, -1.0000])\n"
     ]
    }
   ],
   "source": [
    "dataiter = iter(data_loader)\n",
    "images, labels = next(dataiter)\n",
    "\n",
    "print(\"Label : \", labels[0], classes[labels[0]])\n",
    "print(\"Image size : \", images.size())\n",
    "print(\"Image row : \", images[0][0][14])"
   ]
  },
  {
   "cell_type": "markdown",
   "metadata": {},
   "source": [
    "Jak widać każda z próbek jest czarnobiałym obrazkiem o rozmiarach 28x28. Wartość każdego z pikseli jest zakresu od 0 do 1 i oznacza jego jasność. Na potrzeby nauki sieci neuronowej zostały znormalizowane do wartości od -1 do 1, gdyż takie wartości są efektywniejsze do treningu. Etykieta jest liczbą całkowitą, która reprezentuje jedną z 10 klas."
   ]
  },
  {
   "cell_type": "code",
   "execution_count": 6,
   "metadata": {},
   "outputs": [
    {
     "data": {
      "image/png": "[encoded data removed]",
      "text/plain": [
       "<Figure size 432x288 with 1 Axes>"
      ]
     },
     "metadata": {
      "needs_background": "light"
     },
     "output_type": "display_data"
    }
   ],
   "source": [
    "def imshow(img, labels):\n",
    "    img = img / 2 + 0.5\n",
    "    npimg = img.numpy()\n",
    "    plt.imshow(np.transpose(npimg, (1, 2, 0)))\n",
    "    plt.title(\" - \".join([classes[labels[j]] for j in range(labels.size(0))]))\n",
    "    plt.show()\n",
    "\n",
    "dataiter = iter(data_loader)\n",
    "images, labels = next(dataiter)\n",
    "\n",
    "imshow(torchvision.utils.make_grid(images), labels)"
   ]
  },
  {
   "cell_type": "markdown",
   "metadata": {},
   "source": [
    "Zdjęcia ładowane są po określonym rozmiarze batcha (w tym przypadku 8). Jak widać są czarno białe i małej rozdzielczości, ale zazwyczaj proste do klasyfikacji dla człowieka."
   ]
  },
  {
   "cell_type": "markdown",
   "metadata": {},
   "source": [
    "### Przygotowanie danych i konfiguracja sieci"
   ]
  },
  {
   "cell_type": "code",
   "execution_count": 13,
   "metadata": {},
   "outputs": [],
   "source": [
    "import torch.nn as nn\n",
    "import torch.nn.functional as F\n",
    "import torch.optim as optim\n",
    "from torch.utils.data import DataLoader, Subset\n",
    "from torch.nn import LazyLinear\n",
    "from sklearn.metrics import accuracy_score, precision_recall_fscore_support"
   ]
  },
  {
   "cell_type": "code",
   "execution_count": 27,
   "metadata": {},
   "outputs": [
    {
     "name": "stdout",
     "output_type": "stream",
     "text": [
      "Training set size : 60000\n",
      "Test set size : 10000\n"
     ]
    }
   ],
   "source": [
    "trainset = torchvision.datasets.FashionMNIST(root='./data', train=True, download=True, transform=transform)\n",
    "trainloader = torch.utils.data.DataLoader(trainset, batch_size=32, shuffle=True)\n",
    "\n",
    "testset = torchvision.datasets.FashionMNIST(root='./data', train=False, download=True, transform=transform)\n",
    "testloader = torch.utils.data.DataLoader(testset, batch_size=32, shuffle=False)\n",
    "\n",
    "print(\"Training set size :\", len(trainset))\n",
    "print(\"Test set size :\", len(testset))"
   ]
  },
  {
   "cell_type": "markdown",
   "metadata": {},
   "source": [
    "Na początku dane zostały podzielone na zbiór do trenowania i testowania. Jak widać zbiór treningowy ma 60000 próbek a testowy 10000."
   ]
  },
  {
   "cell_type": "code",
   "execution_count": 28,
   "metadata": {},
   "outputs": [],
   "source": [
    "def train_model(model, trainloader, optimizer, epochs=3):\n",
    "    model.train()\n",
    "    for epoch in range(epochs):\n",
    "        running_loss = 0.0\n",
    "        for i, data in enumerate(trainloader, 0):\n",
    "            inputs, labels = data\n",
    "            optimizer.zero_grad()\n",
    "            outputs = model(inputs)\n",
    "            loss = nn.CrossEntropyLoss()(outputs, labels)\n",
    "            loss.backward()\n",
    "            optimizer.step()\n",
    "            running_loss += loss.item()\n",
    "\n",
    "        print(f\"Epoch {epoch+1}/{epochs}, Loss: {running_loss/len(trainloader)}\")\n",
    "    print('Finished Training')"
   ]
  },
  {
   "cell_type": "markdown",
   "metadata": {},
   "source": [
    "Została zdefiniowana funkcja przeprowadzająca trenowanie modelu dla podenaj liczby epok."
   ]
  },
  {
   "cell_type": "code",
   "execution_count": 29,
   "metadata": {},
   "outputs": [],
   "source": [
    "def test_model(model, testloader):\n",
    "    model.eval()\n",
    "    true_labels = []\n",
    "    pred_labels = []\n",
    "    with torch.no_grad():\n",
    "        for data in testloader:\n",
    "            images, labels = data\n",
    "            outputs = model(images)\n",
    "            _, predicted = torch.max(outputs.data, 1)\n",
    "            true_labels.extend(labels.numpy())\n",
    "            pred_labels.extend(predicted.numpy())\n",
    "\n",
    "    accuracy = accuracy_score(true_labels, pred_labels)\n",
    "    precision, recall, f1, _ = precision_recall_fscore_support(true_labels, pred_labels, average='weighted')\n",
    "    print(f'Accuracy: {accuracy:.4f}, Precision: {precision:.4f}, Recall: {recall:.4f}, F1 Score: {f1:.4f}')"
   ]
  },
  {
   "cell_type": "markdown",
   "metadata": {},
   "source": [
    "Oraz funkcja testująca model"
   ]
  },
  {
   "cell_type": "markdown",
   "metadata": {},
   "source": [
    "### Badanie różnych konfiguracji sieci CNN"
   ]
  },
  {
   "cell_type": "markdown",
   "metadata": {},
   "source": [
    "##### Liczba kanałów sieci"
   ]
  },
  {
   "cell_type": "markdown",
   "metadata": {},
   "source": [
    "Na początku została zdefiniowana prosta sieć CNN korzystająca z jednej warstwy konwolucyjnej, posiadającej 8 kanałów wyjściowych. Jej rezultat następnie jest spłaszany przez wartstwę LazyLinear, która podczas działania sieci sprawdza jaką ilość cech wyprodukowały warstwy konwolucyjne, dzięki temu nie musimy liczyć jakie wymiary ma wyjście z warstwy konwolucujnej. Funkcją aktywacji dla warstwy konwolucyjnej jest ReLU. Z racji na to, że obrazki są czarno białe pierwsza warstwa konwulucyjna przyjmuje jeden kanał, rozmiar filtra dla testów wpływu liczby kanałów został ustawiony na 3."
   ]
  },
  {
   "cell_type": "code",
   "execution_count": 36,
   "metadata": {},
   "outputs": [],
   "source": [
    "class CNN_chanel_8(nn.Module):\n",
    "    def __init__(self):\n",
    "        super(CNN_chanel_8, self).__init__()\n",
    "        self.conv1 = nn.Conv2d(1, 8, 3, padding=1)\n",
    "        self.fc2 = LazyLinear(10)\n",
    "\n",
    "    def forward(self, x):\n",
    "        x = F.relu(self.conv1(x))\n",
    "        x = x.view(x.size(0), -1)\n",
    "        x = self.fc2(x)\n",
    "        return x"
   ]
  },
  {
   "cell_type": "code",
   "execution_count": 33,
   "metadata": {},
   "outputs": [
    {
     "name": "stdout",
     "output_type": "stream",
     "text": [
      "Epoch 1/3, Loss: 0.4744812678893407\n",
      "Epoch 2/3, Loss: 0.36587257718046506\n",
      "Epoch 3/3, Loss: 0.33350485565861065\n",
      "Finished Training\n",
      "Accuracy: 0.8439, Precision: 0.8490, Recall: 0.8439, F1 Score: 0.8389\n"
     ]
    }
   ],
   "source": [
    "net = CNN_chanel_8()\n",
    "optimizer = optim.Adam(net.parameters(), lr=0.01)\n",
    "train_model(net, trainloader, optimizer)\n",
    "test_model(net, testloader)"
   ]
  },
  {
   "cell_type": "markdown",
   "metadata": {},
   "source": [
    "Jak widać dla jednej prostej warstwy konwolucyjnej wyniki nie są oszałamiające. Natępnie dla teh samej sieci zwiększono liczbę kanałów do 16."
   ]
  },
  {
   "cell_type": "code",
   "execution_count": 38,
   "metadata": {},
   "outputs": [],
   "source": [
    "class CNN_chanel_16(nn.Module):\n",
    "    def __init__(self):\n",
    "        super(CNN_chanel_16, self).__init__()\n",
    "        self.conv1 = nn.Conv2d(1, 16, 3, padding=1)\n",
    "        self.fc2 = LazyLinear(10)\n",
    "\n",
    "    def forward(self, x):\n",
    "        x = F.relu(self.conv1(x))\n",
    "        x = x.view(x.size(0), -1)\n",
    "        x = self.fc2(x)\n",
    "        return x"
   ]
  },
  {
   "cell_type": "code",
   "execution_count": 42,
   "metadata": {},
   "outputs": [
    {
     "name": "stdout",
     "output_type": "stream",
     "text": [
      "Epoch 1/3, Loss: 0.48505983301997185\n",
      "Epoch 2/3, Loss: 0.36375930921584365\n",
      "Epoch 3/3, Loss: 0.3193913740317027\n",
      "Finished Training\n",
      "Accuracy: 0.8604, Precision: 0.8619, Recall: 0.8604, F1 Score: 0.8604\n"
     ]
    }
   ],
   "source": [
    "net = CNN_chanel_16()\n",
    "optimizer = optim.Adam(net.parameters(), lr=0.01)\n",
    "train_model(net, trainloader, optimizer)\n",
    "test_model(net, testloader)"
   ]
  },
  {
   "cell_type": "markdown",
   "metadata": {},
   "source": [
    "Doprowadziło to do uzykania trochę lepszych rezultatów, kosztem nieco dłuższego czasu trenowania(około 5%). Następnie dodano jeszcze jedną wartwę konwolucyjną o liczbie kanałów 16."
   ]
  },
  {
   "cell_type": "code",
   "execution_count": 44,
   "metadata": {},
   "outputs": [],
   "source": [
    "class CNN_chanel_16_16(nn.Module):\n",
    "    def __init__(self):\n",
    "        super(CNN_chanel_16_16, self).__init__()\n",
    "        self.conv1 = nn.Conv2d(1, 16, 3, padding=1)\n",
    "        self.conv2 = nn.Conv2d(16, 16, 3, padding=1)\n",
    "        self.fc2 = LazyLinear(10)\n",
    "\n",
    "    def forward(self, x):\n",
    "        x = F.relu(self.conv1(x))\n",
    "        x = F.relu(self.conv2(x))\n",
    "        x = x.view(x.size(0), -1)\n",
    "        x = self.fc2(x)\n",
    "        return x"
   ]
  },
  {
   "cell_type": "code",
   "execution_count": 45,
   "metadata": {},
   "outputs": [
    {
     "name": "stdout",
     "output_type": "stream",
     "text": [
      "Epoch 1/3, Loss: 0.4580534788409869\n",
      "Epoch 2/3, Loss: 0.36928298967878026\n",
      "Epoch 3/3, Loss: 0.32566221317698557\n",
      "Finished Training\n",
      "Accuracy: 0.8645, Precision: 0.8678, Recall: 0.8645, F1 Score: 0.8652\n"
     ]
    }
   ],
   "source": [
    "net = CNN_chanel_16_16()\n",
    "optimizer = optim.Adam(net.parameters(), lr=0.01)\n",
    "train_model(net, trainloader, optimizer)\n",
    "test_model(net, testloader)"
   ]
  },
  {
   "cell_type": "markdown",
   "metadata": {},
   "source": [
    "Jak widać czas trenowania wzrósł prawie dwukrotnie, a dokładność modelu poprawiła się w bardzo niewielkim stopniu."
   ]
  },
  {
   "cell_type": "markdown",
   "metadata": {},
   "source": [
    "##### Rozmiar filtra"
   ]
  },
  {
   "cell_type": "markdown",
   "metadata": {},
   "source": [
    "Dla wcześniejszej dwuwartwowej sieci CNN rozmiar filtra został zmniejszony z 3 do 2."
   ]
  },
  {
   "cell_type": "code",
   "execution_count": 51,
   "metadata": {},
   "outputs": [],
   "source": [
    "class CNN_chanel_16_16_filter_1(nn.Module):\n",
    "    def __init__(self):\n",
    "        super(CNN_chanel_16_16_filter_1, self).__init__()\n",
    "        self.conv1 = nn.Conv2d(1, 16, 2, padding=1)\n",
    "        self.conv2 = nn.Conv2d(16, 16, 2, padding=1)\n",
    "        self.fc2 = LazyLinear(10)\n",
    "\n",
    "    def forward(self, x):\n",
    "        x = F.relu(self.conv1(x))\n",
    "        x = F.relu(self.conv2(x))\n",
    "        x = x.view(x.size(0), -1)\n",
    "        x = self.fc2(x)\n",
    "        return x"
   ]
  },
  {
   "cell_type": "code",
   "execution_count": 52,
   "metadata": {},
   "outputs": [
    {
     "name": "stdout",
     "output_type": "stream",
     "text": [
      "Epoch 1/3, Loss: 0.4292094739953677\n",
      "Epoch 2/3, Loss: 0.3249943337261677\n",
      "Epoch 3/3, Loss: 0.2965090578258038\n",
      "Finished Training\n",
      "Accuracy: 0.8700, Precision: 0.8722, Recall: 0.8700, F1 Score: 0.8700\n"
     ]
    }
   ],
   "source": [
    "net = CNN_chanel_16_16_filter_1()\n",
    "optimizer = optim.Adam(net.parameters(), lr=0.01)\n",
    "train_model(net, trainloader, optimizer)\n",
    "test_model(net, testloader)"
   ]
  },
  {
   "cell_type": "markdown",
   "metadata": {},
   "source": [
    "Skutkowało to trochę lepszym wynikiem, następnie sieć została zmieniona w następujący sposób - pierwsza wartstwa CNN filtr 2, druga warstwa CNN filtr 4. Takie podejście miało by umożliwić sieci w pierszej wartstwie analizę cech na bardzo niskim poziomie (obrazki 2x2), a następnie w następnym poziomie bardziej globalnie."
   ]
  },
  {
   "cell_type": "code",
   "execution_count": 56,
   "metadata": {},
   "outputs": [],
   "source": [
    "class CNN_chanel_16_16_filter_4(nn.Module):\n",
    "    def __init__(self):\n",
    "        super(CNN_chanel_16_16_filter_4, self).__init__()\n",
    "        self.conv1 = nn.Conv2d(1, 16, 2, padding=1)\n",
    "        self.conv2 = nn.Conv2d(16, 16, 4, padding=1)\n",
    "        self.fc2 = LazyLinear(10)\n",
    "\n",
    "    def forward(self, x):\n",
    "        x = F.relu(self.conv1(x))\n",
    "        x = F.relu(self.conv2(x))\n",
    "        x = x.view(x.size(0), -1)\n",
    "        x = self.fc2(x)\n",
    "        return x"
   ]
  },
  {
   "cell_type": "code",
   "execution_count": 57,
   "metadata": {},
   "outputs": [
    {
     "name": "stdout",
     "output_type": "stream",
     "text": [
      "Epoch 1/3, Loss: 0.4130135441323121\n",
      "Epoch 2/3, Loss: 0.3232943566888571\n",
      "Epoch 3/3, Loss: 0.29683654473125937\n",
      "Finished Training\n",
      "Accuracy: 0.8854, Precision: 0.8845, Recall: 0.8854, F1 Score: 0.8833\n"
     ]
    }
   ],
   "source": [
    "net = CNN_chanel_16_16_filter_4()\n",
    "optimizer = optim.Adam(net.parameters(), lr=0.01)\n",
    "train_model(net, trainloader, optimizer)\n",
    "test_model(net, testloader)"
   ]
  },
  {
   "cell_type": "markdown",
   "metadata": {},
   "source": [
    "Jak widać pozwoliło to na uzyksanie bardzo dobrych wyników."
   ]
  },
  {
   "cell_type": "markdown",
   "metadata": {},
   "source": [
    "##### Rozmiar okna poolingu"
   ]
  },
  {
   "cell_type": "markdown",
   "metadata": {},
   "source": [
    "Do uzyzkanej sieci została dodana operacja poolingu 2x2 na każdej z z dwóch warstw konwolucyjnych. Takie podejście powinno skrócić czas trenowania i umożliwić większą generalizację, ale równocześnie może utrudnić proces uczenie (przez eliminację istotnych cech). W testach jest stosowana operacja MaxPool2d, która przypisuje maksymalną wartość z danego obszaru."
   ]
  },
  {
   "cell_type": "code",
   "execution_count": 60,
   "metadata": {},
   "outputs": [],
   "source": [
    "class CNN_chanel_16_16_filter_4_pool_1(nn.Module):\n",
    "    def __init__(self):\n",
    "        super(CNN_chanel_16_16_filter_4_pool_1, self).__init__()\n",
    "        self.conv1 = nn.Conv2d(1, 16, 2, padding=1)\n",
    "        self.conv2 = nn.Conv2d(16, 16, 4, padding=1)\n",
    "        self.pool = nn.MaxPool2d(2, 2)\n",
    "        self.fc2 = LazyLinear(10)\n",
    "\n",
    "    def forward(self, x):\n",
    "        x = F.relu(self.conv1(x))\n",
    "        x = self.pool(x)\n",
    "        x = F.relu(self.conv2(x))\n",
    "        x = self.pool(x)\n",
    "        x = x.view(x.size(0), -1)\n",
    "        x = self.fc2(x)\n",
    "        return x"
   ]
  },
  {
   "cell_type": "code",
   "execution_count": 61,
   "metadata": {},
   "outputs": [
    {
     "name": "stdout",
     "output_type": "stream",
     "text": [
      "Epoch 1/3, Loss: 0.4331348958333333\n",
      "Epoch 2/3, Loss: 0.3637648702740669\n",
      "Epoch 3/3, Loss: 0.3456597083012263\n",
      "Finished Training\n",
      "Accuracy: 0.8754, Precision: 0.8743, Recall: 0.8754, F1 Score: 0.8737\n"
     ]
    }
   ],
   "source": [
    "net = CNN_chanel_16_16_filter_4_pool_1()\n",
    "optimizer = optim.Adam(net.parameters(), lr=0.01)\n",
    "train_model(net, trainloader, optimizer)\n",
    "test_model(net, testloader)"
   ]
  },
  {
   "cell_type": "markdown",
   "metadata": {},
   "source": [
    "Jak widać pooling 2x2 nie wpłynął znacząco ani na wyniki sieci ani na czas przetwarzania. Co ciekawe czas się nawet minimalnie wydłużył, co mogło być spowodowane tym, że same operacja poolingu zużywa trochę mocy obliczeniowej. Następnie został ustawiony pooling na poziomie 4x4."
   ]
  },
  {
   "cell_type": "code",
   "execution_count": 63,
   "metadata": {},
   "outputs": [],
   "source": [
    "class CNN_chanel_16_16_filter_4_pool_2(nn.Module):\n",
    "    def __init__(self):\n",
    "        super(CNN_chanel_16_16_filter_4_pool_2, self).__init__()\n",
    "        self.conv1 = nn.Conv2d(1, 16, 2, padding=1)\n",
    "        self.conv2 = nn.Conv2d(16, 16, 4, padding=1)\n",
    "        self.pool = nn.MaxPool2d(4, 4)\n",
    "        self.fc2 = LazyLinear(10)\n",
    "\n",
    "    def forward(self, x):\n",
    "        x = F.relu(self.conv1(x))\n",
    "        x = self.pool(x)\n",
    "        x = F.relu(self.conv2(x))\n",
    "        x = self.pool(x)\n",
    "        x = x.view(x.size(0), -1)\n",
    "        x = self.fc2(x)\n",
    "        return x"
   ]
  },
  {
   "cell_type": "code",
   "execution_count": 64,
   "metadata": {},
   "outputs": [
    {
     "name": "stdout",
     "output_type": "stream",
     "text": [
      "Epoch 1/3, Loss: 0.7008380393425624\n",
      "Epoch 2/3, Loss: 0.5566827425161998\n",
      "Epoch 3/3, Loss: 0.5201630196332931\n",
      "Finished Training\n",
      "Accuracy: 0.7939, Precision: 0.8023, Recall: 0.7939, F1 Score: 0.7920\n"
     ]
    }
   ],
   "source": [
    "net = CNN_chanel_16_16_filter_4_pool_2()\n",
    "optimizer = optim.Adam(net.parameters(), lr=0.01)\n",
    "train_model(net, trainloader, optimizer)\n",
    "test_model(net, testloader)"
   ]
  },
  {
   "cell_type": "markdown",
   "metadata": {},
   "source": [
    "Dla tego rozwiązania czas trenowania skrócił się już znacznie, ale kosztem dokładności modelu. Możliwe, że istotny pozytywny wpływ poolingu był by widoczny przy uczeniu przez większą ilość epok i dla głębszych sieci."
   ]
  },
  {
   "cell_type": "markdown",
   "metadata": {},
   "source": [
    "#### W zależności od zaburzenia danch"
   ]
  },
  {
   "cell_type": "markdown",
   "metadata": {},
   "source": [
    "Następnie obrazy zostały zaburzone szumem gaussowskim. W teorii może to pozwolić na lepszą generalizację modelu i ograniczenie efektu przeuczenia, jednak może również utrudnić (a nawet uniemożliwić) i wydłużyć naukę."
   ]
  },
  {
   "cell_type": "code",
   "execution_count": 68,
   "metadata": {},
   "outputs": [],
   "source": [
    "class AddGaussianNoise(object):\n",
    "    def __init__(self, mean=0., std=1.):\n",
    "        self.mean = mean\n",
    "        self.std = std\n",
    "    \n",
    "    def __call__(self, tensor):\n",
    "        return tensor + torch.randn(tensor.size()) * self.std + self.mean\n",
    "\n",
    "    def __repr__(self):\n",
    "        return self.__class__.__name__ + '(mean={0}, std={1})'.format(self.mean, self.std)"
   ]
  },
  {
   "cell_type": "code",
   "execution_count": 69,
   "metadata": {},
   "outputs": [],
   "source": [
    "transform_gaussian = transforms.Compose([\n",
    "    transforms.ToTensor(),\n",
    "    transforms.Normalize((0.5,), (0.5,)),\n",
    "    AddGaussianNoise(0., 0.1)\n",
    "])\n",
    "trainset_gaussian = torchvision.datasets.FashionMNIST(root='./data', train=True, download=True, transform=transform_gaussian)\n",
    "testset_gaussian = torchvision.datasets.FashionMNIST(root='./data', train=False, download=True, transform=transform_gaussian)"
   ]
  },
  {
   "cell_type": "code",
   "execution_count": 70,
   "metadata": {},
   "outputs": [
    {
     "name": "stderr",
     "output_type": "stream",
     "text": [
      "Clipping input data to the valid range for imshow with RGB data ([0..1] for floats or [0..255] for integers).\n"
     ]
    },
    {
     "data": {
      "image/png": "[encoded data removed]",
      "text/plain": [
       "<Figure size 432x288 with 1 Axes>"
      ]
     },
     "metadata": {
      "needs_background": "light"
     },
     "output_type": "display_data"
    }
   ],
   "source": [
    "data_loader_gaussian_test = torch.utils.data.DataLoader(trainset_gaussian,\n",
    " batch_size=8,\n",
    " shuffle=True)\n",
    "\n",
    "dataiter = iter(data_loader_gaussian_test)\n",
    "images, labels = next(dataiter)\n",
    "\n",
    "imshow(torchvision.utils.make_grid(images), labels)"
   ]
  },
  {
   "cell_type": "code",
   "execution_count": 74,
   "metadata": {},
   "outputs": [],
   "source": [
    "testloader_gaussian = torch.utils.data.DataLoader(testset_gaussian,\n",
    " batch_size=32,\n",
    " shuffle=False)\n",
    "\n",
    "trainloader_gaussian = torch.utils.data.DataLoader(trainset_gaussian,\n",
    " batch_size=32,\n",
    " shuffle=True)"
   ]
  },
  {
   "cell_type": "code",
   "execution_count": 75,
   "metadata": {},
   "outputs": [
    {
     "name": "stdout",
     "output_type": "stream",
     "text": [
      "Epoch 1/3, Loss: 0.4918632583538691\n",
      "Epoch 2/3, Loss: 0.37150511441628137\n",
      "Epoch 3/3, Loss: 0.3537885657548904\n",
      "Finished Training\n",
      "Accuracy: 0.8610, Precision: 0.8613, Recall: 0.8610, F1 Score: 0.8603\n"
     ]
    }
   ],
   "source": [
    "net = CNN_chanel_16_16_filter_4()\n",
    "optimizer = optim.Adam(net.parameters(), lr=0.01)\n",
    "train_model(net, trainloader_gaussian, optimizer)\n",
    "test_model(net, testloader_gaussian)"
   ]
  },
  {
   "cell_type": "markdown",
   "metadata": {},
   "source": [
    "Jak widać zaburzenie danych szumem gausowskim nie miało istotnego wpływu na wynik sieci, a wręcz lekko go pogorszyło. Możliwe, że pozytywne skutki takiego roizwiązania byłyby widoczne przy uczeniu przez większą ilość epok."
   ]
  }
 ],
 "metadata": {
  "kernelspec": {
   "display_name": "Python 3",
   "language": "python",
   "name": "python3"
  },
  "language_info": {
   "codemirror_mode": {
    "name": "ipython",
    "version": 3
   },
   "file_extension": ".py",
   "mimetype": "text/x-python",
   "name": "python",
   "nbconvert_exporter": "python",
   "pygments_lexer": "ipython3",
   "version": "3.10.11"
  }
 },
 "nbformat": 4,
 "nbformat_minor": 2
}
